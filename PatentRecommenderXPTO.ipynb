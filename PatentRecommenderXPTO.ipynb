{
 "cells": [
  {
   "cell_type": "markdown",
   "metadata": {
    "id": "e5xsM-rCEg4N"
   },
   "source": [
    "# Challenge 3 Patent Reconmmender System\n"
   ]
  },
  {
   "cell_type": "code",
   "execution_count": 45,
   "metadata": {
    "colab": {
     "base_uri": "https://localhost:8080/"
    },
    "id": "0GEURDWpEZdh",
    "outputId": "cf2c5476-9174-4f3c-ac45-fa583c9387a5"
   },
   "outputs": [
    {
     "name": "stdout",
     "output_type": "stream",
     "text": [
      "Requirement already up-to-date: gensim in c:\\programdata\\anaconda3\\lib\\site-packages (4.0.1)\n",
      "Requirement already satisfied, skipping upgrade: scipy>=0.18.1 in c:\\programdata\\anaconda3\\lib\\site-packages (from gensim) (1.5.2)\n",
      "Requirement already satisfied, skipping upgrade: Cython==0.29.21 in c:\\programdata\\anaconda3\\lib\\site-packages (from gensim) (0.29.21)\n",
      "Requirement already satisfied, skipping upgrade: smart-open>=1.8.1 in c:\\programdata\\anaconda3\\lib\\site-packages (from gensim) (5.0.0)\n",
      "Requirement already satisfied, skipping upgrade: numpy>=1.11.3 in c:\\programdata\\anaconda3\\lib\\site-packages (from gensim) (1.19.2)\n"
     ]
    }
   ],
   "source": [
    "# Import section\n",
    "%matplotlib inline\n",
    "\n",
    "import logging\n",
    "logging.basicConfig(format='%(asctime)s : %(levelname)s : %(message)s', level=logging.INFO)\n",
    "\n",
    "import pandas as pd\n",
    "import matplotlib.pyplot as plt\n",
    "import numpy as np\n",
    "import random\n",
    "import math\n",
    "from sklearn.model_selection import train_test_split\n",
    "import gensim\n",
    "# solve issue of gensim version\n",
    "!pip install --upgrade gensim"
   ]
  },
  {
   "cell_type": "markdown",
   "metadata": {
    "id": "kCsioZ2KHSqs"
   },
   "source": [
    "# UTILS\n"
   ]
  },
  {
   "cell_type": "code",
   "execution_count": 31,
   "metadata": {
    "id": "aaGq3q2wHR-L"
   },
   "outputs": [],
   "source": [
    "# function used when the FSC is a string passing it to a list, to be more easly analyzed\n",
    "def validate_parse_fsc(row_fsc):\n",
    "    fscList = []\n",
    "    if('FSC' in row_fsc):\n",
    "        fscList = row_fsc['FSC']\n",
    "    \n",
    "    if(not isinstance(fscList,list)):\n",
    "        fscList = [fscList]\n",
    "    \n",
    "    return fscList\n",
    "\n",
    "def get_model_best_match(abstract,model):\n",
    "    inferred_vector = model.infer_vector(gensim.utils.simple_preprocess(abstract))\n",
    "    return model.dv.most_similar([inferred_vector], topn=len(model.dv))\n",
    "\n",
    "def get_FSC_classes_row(ID):\n",
    "    best_match_classes = train_classes_data[train_classes_data['ID'] == ID]\n",
    "    return best_match_classes['classes'].iloc[0]\n",
    "\n",
    "\n",
    "# returns 2 DataFrames one for text mining and another one for classes\n",
    "def get_scenario_data(data, domain):\n",
    "    # lists for dataframe\n",
    "    #_ID = []\n",
    "    Resumo = []\n",
    "    Titulo = []\n",
    "    FSC_Classes = []\n",
    "    ID = []\n",
    "    for patent in data.iterrows():\n",
    "        # validate if data contains one of these classes\n",
    "        contained = [a in validate_parse_fsc(patent[1][2]) for a in domain]\n",
    "\n",
    "        # add to the lists\n",
    "        if True in contained:\n",
    "            #k.append(patent)\n",
    "            #_ID.append()\n",
    "            Resumo.append(patent[1][0])\n",
    "            Titulo.append(patent[1][1])\n",
    "            FSC_Classes.append(patent[1][2])\n",
    "            ID.append(patent[1][3])\n",
    "            #print(\"ID: \"+str(patent[1][3])+\" FSC: \"+ str(patent[1][2])+\"\\n\")\n",
    "            \n",
    "    # create and return dataframe\n",
    "    return pd.DataFrame({\"ID\": ID, \"Resumo\": Resumo , \"Titulo\": Titulo}), pd.DataFrame({\"ID\":ID, \"classes\":FSC_Classes})\n",
    "\n",
    "\n",
    "\n",
    "def evaluate_classes(enableprint, top_k, df_rows,tipo,modelo):\n",
    "    ID_Test = []\n",
    "    ID_Match = []\n",
    "    SimilarityRank = []\n",
    "    FSC_Overlap = []\n",
    "    Precision = []\n",
    "    ID_Precision_Test = []\n",
    "    \n",
    "    data = test_data.head(df_rows) \n",
    "  \n",
    "    for index,row in data.iterrows():\n",
    "        test_Data_sample = get_model_best_match(row[tipo],modelo)\n",
    "    \n",
    "        # contadores para precisão\n",
    "        relevant = 0\n",
    "    \n",
    "        for similarityRank in range(0,top_k):\n",
    "            match_ID = str(modelIndexToDataframeIndex[test_Data_sample[similarityRank][0]-1])\n",
    "\n",
    "            best_match_data = train_data[train_data['ID'] == match_ID]\n",
    "            #print(\"best_match_data: \"+ best_match_data)\n",
    "\n",
    "            best_match_fsc_row = get_FSC_classes_row(match_ID)\n",
    "            test_fsc_row = get_FSC_classes_row(row['ID'])\n",
    "\n",
    "            fsc_list_best_match = validate_parse_fsc(best_match_fsc_row)\n",
    "            fsc_test_data_row = validate_parse_fsc(test_fsc_row)\n",
    "\n",
    "            intersection_fsc_classes = list(set(fsc_list_best_match).intersection(set(fsc_test_data_row)))\n",
    "    \n",
    "            if len(fsc_test_data_row) != 0:\n",
    "                overlap_ratio = len(intersection_fsc_classes)/len(fsc_test_data_row)\n",
    "\n",
    "                ID_Test.append(row['ID'])\n",
    "                ID_Match.append(match_ID)\n",
    "                SimilarityRank.append(similarityRank)\n",
    "                FSC_Overlap.append(overlap_ratio)\n",
    "        \n",
    "                if intersection_fsc_classes and enableprint:\n",
    "        \n",
    "                    print(\"Test Sample ID : \"+ row['ID'])\n",
    "                    print(\"Match ID : \" + match_ID)\n",
    "                    print(\"Titulo Test Sample: \"+ row['Titulo'])\n",
    "                    #print(\"Titulo Match: \"+ best_match_data.iloc[0]['Titulo'])\n",
    "                   \n",
    "                    print(\"Resumo Test Sample: \"+ row['Resumo'])\n",
    "                    print(\"Resumo Match: \"+ best_match_data.iloc[0]['Resumo'])\n",
    "                    print(\"Class Overlap\" + str(intersection_fsc_classes) )\n",
    "                    print(\"Class Overlap Ratio\" + str(overlap_ratio) + '\\n')\n",
    "\n",
    "                if overlap_ratio >= 0.5:\n",
    "                    relevant += 1\n",
    "        #print(relevant)\n",
    "        precision = relevant / top_k\n",
    "        Precision.append(precision)\n",
    "        ID_Precision_Test.append(row['ID'])\n",
    "        #df_precision_new_row = {\"ID_Test\": ID_Test, \"RecommendationPrecision\":precision}\n",
    "        #df_precision.append(df_precision_new_row, ignore_index=True)\n",
    "        if enableprint:\n",
    "            print(\"Precision\" + str(precision) + '\\n')\n",
    "    \n",
    "\n",
    "    return pd.DataFrame({\"ID_Test\":ID_Test,\"ID_Match\":ID_Match,\"SimilarityRank\":SimilarityRank,\"FSC_Overlap\":FSC_Overlap}), pd.DataFrame({\"ID_Test\":ID_Precision_Test,\"Precision\":Precision})\n",
    "\n",
    "\n",
    "# model - modelo\n",
    "# sample - input a testar\n",
    "# tag - Titulo ou Resumo\n",
    "def infer_similar(model, sample, tag, top):\n",
    "    top -= 1\n",
    "    inferred_vector = model.infer_vector(gensim.utils.simple_preprocess(sample.iloc[0][tag]))\n",
    "    sims = model.dv.most_similar([inferred_vector], topn=len(model.dv))\n",
    "    best_match_row = train_data[train_data['ID'] == modelIndexToDataframeIndex[sims[top][0]-1]]\n",
    "    print(\"Similarity: \"+ str(sims[top][1])) \n",
    "    print(\"ID: \"+ best_match_row.iloc[0]['ID'])\n",
    "    print(\"Titulo: \"+ best_match_row.iloc[0]['Titulo'])\n",
    "    print(\"Resumo: \"+ best_match_row.iloc[0]['Resumo'])\n",
    "    value = str(best_match_row.iloc[0]['ID'])\n",
    "    fscList = train_classes_data.iloc[best_match_row.index]['classes'].iloc[0]['FSC']\n",
    "    print(\"FSC: \"+ str(fscList))\n"
   ]
  },
  {
   "cell_type": "markdown",
   "metadata": {
    "id": "dlDa5eG5E5j0"
   },
   "source": [
    "# Import Dataset\n",
    "\n",
    "*Dataset composition*   \n",
    "\n",
    "| Feature        | Description           |\n",
    "| -------------- | --------------------- |\n",
    "| ID             | The patent ID         |\n",
    "| Title          | Patent Title          |\n",
    "| Abstract       | Patent Abstract       |\n",
    "| Classification | [Patent Classification](https://www.uspto.gov/web/patents/classification/selectnumwithtitle.htm) |\n",
    "\n",
    "## How to export from database\n",
    "\n",
    "\n",
    "```\n",
    "db.10000.find(\n",
    "  {'classes.FSC': {$exists: true},title: {$exists: true},'abstract': {$exists: true}},\n",
    "  {'abstract': 1,title: 1,'classes.FSC': 1}\n",
    ")\n",
    "```\n",
    "\n",
    "\n",
    "```\n",
    "[{$sample: {\n",
    "  size: 10000\n",
    "}}, {$project: { _id: {$toString: \"$_id\"}, abstract : 1, title : 1, \"classes.FSC\" :1}}, {$match: {\"classes\" :{\"$exists\":true},title:{\"$exists\":true},abstract:{\"$exists\":true}}}]\n",
    "```\n"
   ]
  },
  {
   "cell_type": "code",
   "execution_count": 6,
   "metadata": {
    "id": "mnNulBqhGNj3"
   },
   "outputs": [],
   "source": [
    "url = 'https://raw.githubusercontent.com/DGuilherme/Challenge3/main/Dataset/10000_classified_patents.json'\n",
    "\n",
    "data_path ='C:/Users/ricar/Downloads/dataset_Luis.json'"
   ]
  },
  {
   "cell_type": "markdown",
   "metadata": {
    "id": "a_j0XG82HD0T"
   },
   "source": [
    "# Preprocessing \n"
   ]
  },
  {
   "cell_type": "code",
   "execution_count": 7,
   "metadata": {},
   "outputs": [
    {
     "name": "stderr",
     "output_type": "stream",
     "text": [
      "2021-04-25 21:54:19,366 : INFO : Note: NumExpr detected 12 cores but \"NUMEXPR_MAX_THREADS\" not set, so enforcing safe limit of 8.\n",
      "2021-04-25 21:54:19,367 : INFO : NumExpr defaulting to 8 threads.\n"
     ]
    }
   ],
   "source": [
    "raw_train_data = pd.read_json(data_path)\n",
    "raw_train_data = raw_train_data.rename(columns={'_id': 'ID', 'abstract': 'Resumo','title': 'Titulo'})\n",
    "raw_train_data = raw_train_data.dropna()\n",
    "raw_train_data = raw_train_data.drop_duplicates(subset =\"Resumo\",keep = False)\n",
    "raw_train_data = raw_train_data.drop_duplicates(subset =\"Titulo\",keep = False)"
   ]
  },
  {
   "cell_type": "markdown",
   "metadata": {},
   "source": [
    "## Scenario 1\n",
    "Using a random dataset"
   ]
  },
  {
   "cell_type": "code",
   "execution_count": 8,
   "metadata": {
    "colab": {
     "base_uri": "https://localhost:8080/"
    },
    "id": "-CXhoozoHIYO",
    "outputId": "87eb5347-cd81-4323-cb95-24d507d9dc78"
   },
   "outputs": [],
   "source": [
    "\n",
    "\n",
    "\n",
    "# the names that are defined here must be universal for this notebook\n",
    "train_classes_data = raw_train_data[['ID','classes']]\n",
    "train_data_unsplit = raw_train_data[['ID','Titulo','Resumo']]\n",
    "\n",
    "# Split dataset\n",
    "train_data, test_data = train_test_split(train_data_unsplit, test_size=0.2)"
   ]
  },
  {
   "cell_type": "markdown",
   "metadata": {
    "id": "FWNkM3sqGwJw"
   },
   "source": [
    "## Scenario 2\n",
    "In this scenario we use patents from the same domain, Industry"
   ]
  },
  {
   "cell_type": "code",
   "execution_count": 9,
   "metadata": {
    "id": "MVEJf1GdHEZl"
   },
   "outputs": [],
   "source": [
    "# method to get data for industry domain\n",
    "industry_domain = ['028','065','072','073','075','076','081','082','083','095','096','110','164','187','264','266','336','373','438','445','493','505','714','715']\n",
    "\n",
    "\n",
    "#pd.DataFrame({\"ID_Test\":ID_Test,\"ID_Match\":ID_Match,\"SimilarityRank\":SimilarityRank,\"FSC_Overlap\":FSC_Overlap}), pd.DataFrame({\"ID_Test\":ID_Precision_Test,\"Precision\":Prec\n",
    "industry_patents_df, industry_patents_classes_df = get_scenario_data(raw_train_data, industry_domain)"
   ]
  },
  {
   "cell_type": "markdown",
   "metadata": {},
   "source": [
    "**Only run thes following cell to if it is to change the the scenario 2 data**"
   ]
  },
  {
   "cell_type": "code",
   "execution_count": 10,
   "metadata": {},
   "outputs": [],
   "source": [
    "# Split dataset\n",
    "\n",
    "train_data, test_data = train_test_split(industry_patents_df, test_size=0.2)\n",
    "train_classes_data = industry_patents_classes_df"
   ]
  },
  {
   "cell_type": "markdown",
   "metadata": {
    "id": "y7wxz6hIHTH3"
   },
   "source": [
    "# Create the Vocabulary"
   ]
  },
  {
   "cell_type": "code",
   "execution_count": 11,
   "metadata": {
    "colab": {
     "base_uri": "https://localhost:8080/"
    },
    "id": "P-joK4g9Jsx2",
    "outputId": "00e4e3d5-ec24-45be-c39a-8bcfb4f40564"
   },
   "outputs": [
    {
     "name": "stderr",
     "output_type": "stream",
     "text": [
      "C:\\ProgramData\\Anaconda3\\lib\\site-packages\\gensim\\similarities\\__init__.py:15: UserWarning: The gensim.similarities.levenshtein submodule is disabled, because the optional Levenshtein package <https://pypi.org/project/python-Levenshtein/> is unavailable. Install Levenhstein (e.g. `pip install python-Levenshtein`) to suppress this warning.\n",
      "  warnings.warn(msg)\n"
     ]
    }
   ],
   "source": [
    "modelIndexToDataframeIndex = []\n",
    "\n",
    "\n",
    "\n",
    "def tagData(dataframe,tag):\n",
    "    number = 0\n",
    "    for index,row in dataframe.iterrows():\n",
    "        number = number + 1\n",
    "        modelIndexToDataframeIndex.append(row['ID'])\n",
    "        resumotokens = gensim.utils.simple_preprocess(row[tag])\n",
    "\n",
    "        yield gensim.models.doc2vec.TaggedDocument(resumotokens, [number])\n",
    "\n",
    "vocabulary_resumo = list(tagData(train_data,'Resumo'))\n",
    "vocabulary_test_resumo = list(tagData(test_data,'Resumo'))\n",
    "\n",
    "vocabulary_titulo = list(tagData(train_data,'Titulo'))\n",
    "vocabulary_test_titulo = list(tagData(test_data,'Titulo'))"
   ]
  },
  {
   "cell_type": "markdown",
   "metadata": {
    "id": "qtbfLl39J-Yp"
   },
   "source": [
    "# Create gensim Doc2Vec model"
   ]
  },
  {
   "cell_type": "code",
   "execution_count": 12,
   "metadata": {
    "colab": {
     "base_uri": "https://localhost:8080/"
    },
    "id": "RWylcDJ_KFyG",
    "outputId": "5032e17f-bffe-4786-fc4d-e87d215b6f8b"
   },
   "outputs": [
    {
     "name": "stderr",
     "output_type": "stream",
     "text": [
      "2021-04-25 21:54:42,747 : INFO : Doc2Vec lifecycle event {'params': 'Doc2Vec(dm/m,d100,n5,w5,mc2,s0.001,t3)', 'datetime': '2021-04-25T21:54:42.746893', 'gensim': '4.0.1', 'python': '3.8.5 (default, Sep  3 2020, 21:29:08) [MSC v.1916 64 bit (AMD64)]', 'platform': 'Windows-10-10.0.19041-SP0', 'event': 'created'}\n",
      "2021-04-25 21:54:42,748 : INFO : Doc2Vec lifecycle event {'params': 'Doc2Vec(dm/m,d100,n5,w5,mc2,s0.001,t3)', 'datetime': '2021-04-25T21:54:42.748890', 'gensim': '4.0.1', 'python': '3.8.5 (default, Sep  3 2020, 21:29:08) [MSC v.1916 64 bit (AMD64)]', 'platform': 'Windows-10-10.0.19041-SP0', 'event': 'created'}\n",
      "2021-04-25 21:54:42,749 : INFO : collecting all words and their counts\n",
      "2021-04-25 21:54:42,750 : INFO : PROGRESS: at example #0, processed 0 words (0/s), 0 word types, 0 tags\n",
      "2021-04-25 21:54:42,881 : INFO : collected 13980 word types and 4717 unique tags from a corpus of 4716 examples and 542649 words\n",
      "2021-04-25 21:54:42,882 : INFO : Creating a fresh vocabulary\n",
      "2021-04-25 21:54:42,935 : INFO : Doc2Vec lifecycle event {'msg': 'effective_min_count=2 retains 9585 unique words (68.56223175965665%% of original 13980, drops 4395)', 'datetime': '2021-04-25T21:54:42.935889', 'gensim': '4.0.1', 'python': '3.8.5 (default, Sep  3 2020, 21:29:08) [MSC v.1916 64 bit (AMD64)]', 'platform': 'Windows-10-10.0.19041-SP0', 'event': 'prepare_vocab'}\n",
      "2021-04-25 21:54:42,938 : INFO : Doc2Vec lifecycle event {'msg': 'effective_min_count=2 leaves 538254 word corpus (99.19008419807278%% of original 542649, drops 4395)', 'datetime': '2021-04-25T21:54:42.938892', 'gensim': '4.0.1', 'python': '3.8.5 (default, Sep  3 2020, 21:29:08) [MSC v.1916 64 bit (AMD64)]', 'platform': 'Windows-10-10.0.19041-SP0', 'event': 'prepare_vocab'}\n",
      "2021-04-25 21:54:43,013 : INFO : deleting the raw counts dictionary of 13980 items\n",
      "2021-04-25 21:54:43,014 : INFO : sample=0.001 downsamples 39 most-common words\n",
      "2021-04-25 21:54:43,015 : INFO : Doc2Vec lifecycle event {'msg': 'downsampling leaves estimated 398864.6634397332 word corpus (74.1%% of prior 538254)', 'datetime': '2021-04-25T21:54:43.015891', 'gensim': '4.0.1', 'python': '3.8.5 (default, Sep  3 2020, 21:29:08) [MSC v.1916 64 bit (AMD64)]', 'platform': 'Windows-10-10.0.19041-SP0', 'event': 'prepare_vocab'}\n",
      "2021-04-25 21:54:43,148 : INFO : estimated required memory for 9585 words and 100 dimensions: 15290700 bytes\n",
      "2021-04-25 21:54:43,148 : INFO : resetting layer weights\n",
      "2021-04-25 21:54:43,161 : INFO : collecting all words and their counts\n",
      "2021-04-25 21:54:43,162 : INFO : PROGRESS: at example #0, processed 0 words (0/s), 0 word types, 0 tags\n",
      "2021-04-25 21:54:43,183 : INFO : collected 4977 word types and 4717 unique tags from a corpus of 4716 examples and 39979 words\n",
      "2021-04-25 21:54:43,185 : INFO : Creating a fresh vocabulary\n",
      "2021-04-25 21:54:43,210 : INFO : Doc2Vec lifecycle event {'msg': 'effective_min_count=2 retains 2575 unique words (51.73799477596946%% of original 4977, drops 2402)', 'datetime': '2021-04-25T21:54:43.209422', 'gensim': '4.0.1', 'python': '3.8.5 (default, Sep  3 2020, 21:29:08) [MSC v.1916 64 bit (AMD64)]', 'platform': 'Windows-10-10.0.19041-SP0', 'event': 'prepare_vocab'}\n",
      "2021-04-25 21:54:43,212 : INFO : Doc2Vec lifecycle event {'msg': 'effective_min_count=2 leaves 37577 word corpus (93.99184571900247%% of original 39979, drops 2402)', 'datetime': '2021-04-25T21:54:43.212424', 'gensim': '4.0.1', 'python': '3.8.5 (default, Sep  3 2020, 21:29:08) [MSC v.1916 64 bit (AMD64)]', 'platform': 'Windows-10-10.0.19041-SP0', 'event': 'prepare_vocab'}\n",
      "2021-04-25 21:54:43,249 : INFO : deleting the raw counts dictionary of 4977 items\n",
      "2021-04-25 21:54:43,252 : INFO : sample=0.001 downsamples 43 most-common words\n",
      "2021-04-25 21:54:43,253 : INFO : Doc2Vec lifecycle event {'msg': 'downsampling leaves estimated 26718.57624356877 word corpus (71.1%% of prior 37577)', 'datetime': '2021-04-25T21:54:43.253417', 'gensim': '4.0.1', 'python': '3.8.5 (default, Sep  3 2020, 21:29:08) [MSC v.1916 64 bit (AMD64)]', 'platform': 'Windows-10-10.0.19041-SP0', 'event': 'prepare_vocab'}\n",
      "2021-04-25 21:54:43,304 : INFO : estimated required memory for 2575 words and 100 dimensions: 6177700 bytes\n",
      "2021-04-25 21:54:43,305 : INFO : resetting layer weights\n"
     ]
    }
   ],
   "source": [
    "# instanciate\n",
    "model_resumo = gensim.models.doc2vec.Doc2Vec(vector_size=100, min_count=2, epochs=100) # Create inital empty model\n",
    "\n",
    "model_titulo = gensim.models.doc2vec.Doc2Vec(vector_size=100, min_count=2, epochs=100) # Create inital empty model\n",
    "\n",
    "\n",
    "# build\n",
    "model_resumo.build_vocab(vocabulary_resumo) # Add data to the model\n",
    "\n",
    "model_titulo.build_vocab(vocabulary_titulo) # Add data to the model"
   ]
  },
  {
   "cell_type": "markdown",
   "metadata": {
    "id": "C-9KgHzEKR5Q"
   },
   "source": [
    "# Model Train\n"
   ]
  },
  {
   "cell_type": "code",
   "execution_count": 13,
   "metadata": {
    "colab": {
     "base_uri": "https://localhost:8080/"
    },
    "id": "A8zcglucKRhf",
    "outputId": "285f0561-17f8-425c-c949-fbd660bd6e4b"
   },
   "outputs": [
    {
     "name": "stderr",
     "output_type": "stream",
     "text": [
      "2021-04-25 21:54:43,333 : INFO : Doc2Vec lifecycle event {'msg': 'training model with 3 workers on 9585 vocabulary and 100 features, using sg=0 hs=0 sample=0.001 negative=5 window=5', 'datetime': '2021-04-25T21:54:43.333413', 'gensim': '4.0.1', 'python': '3.8.5 (default, Sep  3 2020, 21:29:08) [MSC v.1916 64 bit (AMD64)]', 'platform': 'Windows-10-10.0.19041-SP0', 'event': 'train'}\n",
      "2021-04-25 21:54:44,014 : INFO : worker thread finished; awaiting finish of 2 more threads\n",
      "2021-04-25 21:54:44,016 : INFO : worker thread finished; awaiting finish of 1 more threads\n",
      "2021-04-25 21:54:44,020 : INFO : worker thread finished; awaiting finish of 0 more threads\n",
      "2021-04-25 21:54:44,021 : INFO : EPOCH - 1 : training on 542649 raw words (403477 effective words) took 0.7s, 594123 effective words/s\n",
      "2021-04-25 21:54:44,584 : INFO : worker thread finished; awaiting finish of 2 more threads\n",
      "2021-04-25 21:54:44,588 : INFO : worker thread finished; awaiting finish of 1 more threads\n",
      "2021-04-25 21:54:44,590 : INFO : worker thread finished; awaiting finish of 0 more threads\n",
      "2021-04-25 21:54:44,591 : INFO : EPOCH - 2 : training on 542649 raw words (403384 effective words) took 0.6s, 711310 effective words/s\n",
      "2021-04-25 21:54:45,309 : INFO : worker thread finished; awaiting finish of 2 more threads\n",
      "2021-04-25 21:54:45,314 : INFO : worker thread finished; awaiting finish of 1 more threads\n",
      "2021-04-25 21:54:45,323 : INFO : worker thread finished; awaiting finish of 0 more threads\n",
      "2021-04-25 21:54:45,324 : INFO : EPOCH - 3 : training on 542649 raw words (403625 effective words) took 0.7s, 553858 effective words/s\n",
      "2021-04-25 21:54:45,870 : INFO : worker thread finished; awaiting finish of 2 more threads\n",
      "2021-04-25 21:54:45,874 : INFO : worker thread finished; awaiting finish of 1 more threads\n",
      "2021-04-25 21:54:45,884 : INFO : worker thread finished; awaiting finish of 0 more threads\n",
      "2021-04-25 21:54:45,885 : INFO : EPOCH - 4 : training on 542649 raw words (403443 effective words) took 0.6s, 725792 effective words/s\n",
      "2021-04-25 21:54:46,428 : INFO : worker thread finished; awaiting finish of 2 more threads\n",
      "2021-04-25 21:54:46,434 : INFO : worker thread finished; awaiting finish of 1 more threads\n",
      "2021-04-25 21:54:46,440 : INFO : worker thread finished; awaiting finish of 0 more threads\n",
      "2021-04-25 21:54:46,441 : INFO : EPOCH - 5 : training on 542649 raw words (403555 effective words) took 0.6s, 729642 effective words/s\n",
      "2021-04-25 21:54:47,085 : INFO : worker thread finished; awaiting finish of 2 more threads\n",
      "2021-04-25 21:54:47,090 : INFO : worker thread finished; awaiting finish of 1 more threads\n",
      "2021-04-25 21:54:47,100 : INFO : worker thread finished; awaiting finish of 0 more threads\n",
      "2021-04-25 21:54:47,101 : INFO : EPOCH - 6 : training on 542649 raw words (403267 effective words) took 0.7s, 614902 effective words/s\n",
      "2021-04-25 21:54:47,616 : INFO : worker thread finished; awaiting finish of 2 more threads\n",
      "2021-04-25 21:54:47,623 : INFO : worker thread finished; awaiting finish of 1 more threads\n",
      "2021-04-25 21:54:47,627 : INFO : worker thread finished; awaiting finish of 0 more threads\n",
      "2021-04-25 21:54:47,628 : INFO : EPOCH - 7 : training on 542649 raw words (403512 effective words) took 0.5s, 772900 effective words/s\n",
      "2021-04-25 21:54:48,127 : INFO : worker thread finished; awaiting finish of 2 more threads\n",
      "2021-04-25 21:54:48,134 : INFO : worker thread finished; awaiting finish of 1 more threads\n",
      "2021-04-25 21:54:48,137 : INFO : worker thread finished; awaiting finish of 0 more threads\n",
      "2021-04-25 21:54:48,138 : INFO : EPOCH - 8 : training on 542649 raw words (403710 effective words) took 0.5s, 797481 effective words/s\n",
      "2021-04-25 21:54:48,626 : INFO : worker thread finished; awaiting finish of 2 more threads\n",
      "2021-04-25 21:54:48,630 : INFO : worker thread finished; awaiting finish of 1 more threads\n",
      "2021-04-25 21:54:48,638 : INFO : worker thread finished; awaiting finish of 0 more threads\n",
      "2021-04-25 21:54:48,639 : INFO : EPOCH - 9 : training on 542649 raw words (403595 effective words) took 0.5s, 812165 effective words/s\n",
      "2021-04-25 21:54:49,149 : INFO : worker thread finished; awaiting finish of 2 more threads\n",
      "2021-04-25 21:54:49,159 : INFO : worker thread finished; awaiting finish of 1 more threads\n",
      "2021-04-25 21:54:49,163 : INFO : worker thread finished; awaiting finish of 0 more threads\n",
      "2021-04-25 21:54:49,164 : INFO : EPOCH - 10 : training on 542649 raw words (403639 effective words) took 0.5s, 773367 effective words/s\n",
      "2021-04-25 21:54:49,671 : INFO : worker thread finished; awaiting finish of 2 more threads\n",
      "2021-04-25 21:54:49,675 : INFO : worker thread finished; awaiting finish of 1 more threads\n",
      "2021-04-25 21:54:49,679 : INFO : worker thread finished; awaiting finish of 0 more threads\n",
      "2021-04-25 21:54:49,680 : INFO : EPOCH - 11 : training on 542649 raw words (403511 effective words) took 0.5s, 790092 effective words/s\n",
      "2021-04-25 21:54:50,202 : INFO : worker thread finished; awaiting finish of 2 more threads\n",
      "2021-04-25 21:54:50,205 : INFO : worker thread finished; awaiting finish of 1 more threads\n",
      "2021-04-25 21:54:50,208 : INFO : worker thread finished; awaiting finish of 0 more threads\n",
      "2021-04-25 21:54:50,209 : INFO : EPOCH - 12 : training on 542649 raw words (403855 effective words) took 0.5s, 767680 effective words/s\n",
      "2021-04-25 21:54:50,719 : INFO : worker thread finished; awaiting finish of 2 more threads\n",
      "2021-04-25 21:54:50,722 : INFO : worker thread finished; awaiting finish of 1 more threads\n",
      "2021-04-25 21:54:50,727 : INFO : worker thread finished; awaiting finish of 0 more threads\n",
      "2021-04-25 21:54:50,728 : INFO : EPOCH - 13 : training on 542649 raw words (403657 effective words) took 0.5s, 781383 effective words/s\n",
      "2021-04-25 21:54:51,259 : INFO : worker thread finished; awaiting finish of 2 more threads\n",
      "2021-04-25 21:54:51,261 : INFO : worker thread finished; awaiting finish of 1 more threads\n",
      "2021-04-25 21:54:51,264 : INFO : worker thread finished; awaiting finish of 0 more threads\n",
      "2021-04-25 21:54:51,265 : INFO : EPOCH - 14 : training on 542649 raw words (403639 effective words) took 0.5s, 757789 effective words/s\n",
      "2021-04-25 21:54:51,768 : INFO : worker thread finished; awaiting finish of 2 more threads\n",
      "2021-04-25 21:54:51,773 : INFO : worker thread finished; awaiting finish of 1 more threads\n",
      "2021-04-25 21:54:51,779 : INFO : worker thread finished; awaiting finish of 0 more threads\n",
      "2021-04-25 21:54:51,780 : INFO : EPOCH - 15 : training on 542649 raw words (403487 effective words) took 0.5s, 788650 effective words/s\n",
      "2021-04-25 21:54:52,282 : INFO : worker thread finished; awaiting finish of 2 more threads\n",
      "2021-04-25 21:54:52,287 : INFO : worker thread finished; awaiting finish of 1 more threads\n",
      "2021-04-25 21:54:52,291 : INFO : worker thread finished; awaiting finish of 0 more threads\n",
      "2021-04-25 21:54:52,292 : INFO : EPOCH - 16 : training on 542649 raw words (403757 effective words) took 0.5s, 793306 effective words/s\n",
      "2021-04-25 21:54:52,795 : INFO : worker thread finished; awaiting finish of 2 more threads\n",
      "2021-04-25 21:54:52,799 : INFO : worker thread finished; awaiting finish of 1 more threads\n",
      "2021-04-25 21:54:52,804 : INFO : worker thread finished; awaiting finish of 0 more threads\n",
      "2021-04-25 21:54:52,804 : INFO : EPOCH - 17 : training on 542649 raw words (403884 effective words) took 0.5s, 794793 effective words/s\n",
      "2021-04-25 21:54:53,280 : INFO : worker thread finished; awaiting finish of 2 more threads\n",
      "2021-04-25 21:54:53,281 : INFO : worker thread finished; awaiting finish of 1 more threads\n",
      "2021-04-25 21:54:53,284 : INFO : worker thread finished; awaiting finish of 0 more threads\n",
      "2021-04-25 21:54:53,285 : INFO : EPOCH - 18 : training on 542649 raw words (403663 effective words) took 0.5s, 846883 effective words/s\n",
      "2021-04-25 21:54:53,876 : INFO : worker thread finished; awaiting finish of 2 more threads\n",
      "2021-04-25 21:54:53,881 : INFO : worker thread finished; awaiting finish of 1 more threads\n",
      "2021-04-25 21:54:53,884 : INFO : worker thread finished; awaiting finish of 0 more threads\n",
      "2021-04-25 21:54:53,884 : INFO : EPOCH - 19 : training on 542649 raw words (403426 effective words) took 0.6s, 675747 effective words/s\n",
      "2021-04-25 21:54:54,555 : INFO : worker thread finished; awaiting finish of 2 more threads\n"
     ]
    },
    {
     "name": "stderr",
     "output_type": "stream",
     "text": [
      "2021-04-25 21:54:54,564 : INFO : worker thread finished; awaiting finish of 1 more threads\n",
      "2021-04-25 21:54:54,568 : INFO : worker thread finished; awaiting finish of 0 more threads\n",
      "2021-04-25 21:54:54,569 : INFO : EPOCH - 20 : training on 542649 raw words (403697 effective words) took 0.7s, 591621 effective words/s\n",
      "2021-04-25 21:54:55,260 : INFO : worker thread finished; awaiting finish of 2 more threads\n",
      "2021-04-25 21:54:55,262 : INFO : worker thread finished; awaiting finish of 1 more threads\n",
      "2021-04-25 21:54:55,263 : INFO : worker thread finished; awaiting finish of 0 more threads\n",
      "2021-04-25 21:54:55,264 : INFO : EPOCH - 21 : training on 542649 raw words (403511 effective words) took 0.7s, 583240 effective words/s\n",
      "2021-04-25 21:54:55,833 : INFO : worker thread finished; awaiting finish of 2 more threads\n",
      "2021-04-25 21:54:55,837 : INFO : worker thread finished; awaiting finish of 1 more threads\n",
      "2021-04-25 21:54:55,845 : INFO : worker thread finished; awaiting finish of 0 more threads\n",
      "2021-04-25 21:54:55,846 : INFO : EPOCH - 22 : training on 542649 raw words (403952 effective words) took 0.6s, 697558 effective words/s\n",
      "2021-04-25 21:54:56,345 : INFO : worker thread finished; awaiting finish of 2 more threads\n",
      "2021-04-25 21:54:56,353 : INFO : worker thread finished; awaiting finish of 1 more threads\n",
      "2021-04-25 21:54:56,358 : INFO : worker thread finished; awaiting finish of 0 more threads\n",
      "2021-04-25 21:54:56,359 : INFO : EPOCH - 23 : training on 542649 raw words (403417 effective words) took 0.5s, 789306 effective words/s\n",
      "2021-04-25 21:54:56,897 : INFO : worker thread finished; awaiting finish of 2 more threads\n",
      "2021-04-25 21:54:56,900 : INFO : worker thread finished; awaiting finish of 1 more threads\n",
      "2021-04-25 21:54:56,905 : INFO : worker thread finished; awaiting finish of 0 more threads\n",
      "2021-04-25 21:54:56,906 : INFO : EPOCH - 24 : training on 542649 raw words (403601 effective words) took 0.5s, 744033 effective words/s\n",
      "2021-04-25 21:54:57,446 : INFO : worker thread finished; awaiting finish of 2 more threads\n",
      "2021-04-25 21:54:57,449 : INFO : worker thread finished; awaiting finish of 1 more threads\n",
      "2021-04-25 21:54:57,457 : INFO : worker thread finished; awaiting finish of 0 more threads\n",
      "2021-04-25 21:54:57,458 : INFO : EPOCH - 25 : training on 542649 raw words (403532 effective words) took 0.5s, 737816 effective words/s\n",
      "2021-04-25 21:54:58,012 : INFO : worker thread finished; awaiting finish of 2 more threads\n",
      "2021-04-25 21:54:58,018 : INFO : worker thread finished; awaiting finish of 1 more threads\n",
      "2021-04-25 21:54:58,025 : INFO : worker thread finished; awaiting finish of 0 more threads\n",
      "2021-04-25 21:54:58,028 : INFO : EPOCH - 26 : training on 542649 raw words (403572 effective words) took 0.6s, 711336 effective words/s\n",
      "2021-04-25 21:54:59,017 : INFO : worker thread finished; awaiting finish of 2 more threads\n",
      "2021-04-25 21:54:59,021 : INFO : worker thread finished; awaiting finish of 1 more threads\n",
      "2021-04-25 21:54:59,027 : INFO : worker thread finished; awaiting finish of 0 more threads\n",
      "2021-04-25 21:54:59,029 : INFO : EPOCH - 27 : training on 542649 raw words (403884 effective words) took 1.0s, 406741 effective words/s\n",
      "2021-04-25 21:54:59,651 : INFO : worker thread finished; awaiting finish of 2 more threads\n",
      "2021-04-25 21:54:59,653 : INFO : worker thread finished; awaiting finish of 1 more threads\n",
      "2021-04-25 21:54:59,661 : INFO : worker thread finished; awaiting finish of 0 more threads\n",
      "2021-04-25 21:54:59,662 : INFO : EPOCH - 28 : training on 542649 raw words (403599 effective words) took 0.6s, 646707 effective words/s\n",
      "2021-04-25 21:55:00,222 : INFO : worker thread finished; awaiting finish of 2 more threads\n",
      "2021-04-25 21:55:00,224 : INFO : worker thread finished; awaiting finish of 1 more threads\n",
      "2021-04-25 21:55:00,233 : INFO : worker thread finished; awaiting finish of 0 more threads\n",
      "2021-04-25 21:55:00,234 : INFO : EPOCH - 29 : training on 542649 raw words (403530 effective words) took 0.6s, 712052 effective words/s\n",
      "2021-04-25 21:55:00,800 : INFO : worker thread finished; awaiting finish of 2 more threads\n",
      "2021-04-25 21:55:00,804 : INFO : worker thread finished; awaiting finish of 1 more threads\n",
      "2021-04-25 21:55:00,811 : INFO : worker thread finished; awaiting finish of 0 more threads\n",
      "2021-04-25 21:55:00,812 : INFO : EPOCH - 30 : training on 542649 raw words (403690 effective words) took 0.6s, 701256 effective words/s\n",
      "2021-04-25 21:55:01,310 : INFO : worker thread finished; awaiting finish of 2 more threads\n",
      "2021-04-25 21:55:01,313 : INFO : worker thread finished; awaiting finish of 1 more threads\n",
      "2021-04-25 21:55:01,319 : INFO : worker thread finished; awaiting finish of 0 more threads\n",
      "2021-04-25 21:55:01,320 : INFO : EPOCH - 31 : training on 542649 raw words (403928 effective words) took 0.5s, 799757 effective words/s\n",
      "2021-04-25 21:55:01,820 : INFO : worker thread finished; awaiting finish of 2 more threads\n",
      "2021-04-25 21:55:01,822 : INFO : worker thread finished; awaiting finish of 1 more threads\n",
      "2021-04-25 21:55:01,824 : INFO : worker thread finished; awaiting finish of 0 more threads\n",
      "2021-04-25 21:55:01,824 : INFO : EPOCH - 32 : training on 542649 raw words (403626 effective words) took 0.5s, 804972 effective words/s\n",
      "2021-04-25 21:55:02,310 : INFO : worker thread finished; awaiting finish of 2 more threads\n",
      "2021-04-25 21:55:02,312 : INFO : worker thread finished; awaiting finish of 1 more threads\n",
      "2021-04-25 21:55:02,315 : INFO : worker thread finished; awaiting finish of 0 more threads\n",
      "2021-04-25 21:55:02,315 : INFO : EPOCH - 33 : training on 542649 raw words (403344 effective words) took 0.5s, 827202 effective words/s\n",
      "2021-04-25 21:55:02,810 : INFO : worker thread finished; awaiting finish of 2 more threads\n",
      "2021-04-25 21:55:02,814 : INFO : worker thread finished; awaiting finish of 1 more threads\n",
      "2021-04-25 21:55:02,817 : INFO : worker thread finished; awaiting finish of 0 more threads\n",
      "2021-04-25 21:55:02,818 : INFO : EPOCH - 34 : training on 542649 raw words (403364 effective words) took 0.5s, 807358 effective words/s\n",
      "2021-04-25 21:55:03,373 : INFO : worker thread finished; awaiting finish of 2 more threads\n",
      "2021-04-25 21:55:03,377 : INFO : worker thread finished; awaiting finish of 1 more threads\n",
      "2021-04-25 21:55:03,382 : INFO : worker thread finished; awaiting finish of 0 more threads\n",
      "2021-04-25 21:55:03,383 : INFO : EPOCH - 35 : training on 542649 raw words (403397 effective words) took 0.6s, 718710 effective words/s\n",
      "2021-04-25 21:55:03,963 : INFO : worker thread finished; awaiting finish of 2 more threads\n",
      "2021-04-25 21:55:03,972 : INFO : worker thread finished; awaiting finish of 1 more threads\n",
      "2021-04-25 21:55:03,977 : INFO : worker thread finished; awaiting finish of 0 more threads\n",
      "2021-04-25 21:55:03,978 : INFO : EPOCH - 36 : training on 542649 raw words (403409 effective words) took 0.6s, 681125 effective words/s\n",
      "2021-04-25 21:55:04,662 : INFO : worker thread finished; awaiting finish of 2 more threads\n",
      "2021-04-25 21:55:04,668 : INFO : worker thread finished; awaiting finish of 1 more threads\n",
      "2021-04-25 21:55:04,678 : INFO : worker thread finished; awaiting finish of 0 more threads\n",
      "2021-04-25 21:55:04,680 : INFO : EPOCH - 37 : training on 542649 raw words (403599 effective words) took 0.7s, 577503 effective words/s\n",
      "2021-04-25 21:55:05,402 : INFO : worker thread finished; awaiting finish of 2 more threads\n",
      "2021-04-25 21:55:05,406 : INFO : worker thread finished; awaiting finish of 1 more threads\n",
      "2021-04-25 21:55:05,423 : INFO : worker thread finished; awaiting finish of 0 more threads\n",
      "2021-04-25 21:55:05,425 : INFO : EPOCH - 38 : training on 542649 raw words (403562 effective words) took 0.7s, 545425 effective words/s\n",
      "2021-04-25 21:55:06,184 : INFO : worker thread finished; awaiting finish of 2 more threads\n",
      "2021-04-25 21:55:06,188 : INFO : worker thread finished; awaiting finish of 1 more threads\n",
      "2021-04-25 21:55:06,198 : INFO : worker thread finished; awaiting finish of 0 more threads\n",
      "2021-04-25 21:55:06,200 : INFO : EPOCH - 39 : training on 542649 raw words (403801 effective words) took 0.8s, 524876 effective words/s\n",
      "2021-04-25 21:55:06,873 : INFO : worker thread finished; awaiting finish of 2 more threads\n",
      "2021-04-25 21:55:06,875 : INFO : worker thread finished; awaiting finish of 1 more threads\n"
     ]
    },
    {
     "name": "stderr",
     "output_type": "stream",
     "text": [
      "2021-04-25 21:55:06,880 : INFO : worker thread finished; awaiting finish of 0 more threads\n",
      "2021-04-25 21:55:06,881 : INFO : EPOCH - 40 : training on 542649 raw words (403453 effective words) took 0.7s, 597340 effective words/s\n",
      "2021-04-25 21:55:07,483 : INFO : worker thread finished; awaiting finish of 2 more threads\n",
      "2021-04-25 21:55:07,486 : INFO : worker thread finished; awaiting finish of 1 more threads\n",
      "2021-04-25 21:55:07,499 : INFO : worker thread finished; awaiting finish of 0 more threads\n",
      "2021-04-25 21:55:07,500 : INFO : EPOCH - 41 : training on 542649 raw words (403706 effective words) took 0.6s, 655795 effective words/s\n",
      "2021-04-25 21:55:08,196 : INFO : worker thread finished; awaiting finish of 2 more threads\n",
      "2021-04-25 21:55:08,199 : INFO : worker thread finished; awaiting finish of 1 more threads\n",
      "2021-04-25 21:55:08,212 : INFO : worker thread finished; awaiting finish of 0 more threads\n",
      "2021-04-25 21:55:08,213 : INFO : EPOCH - 42 : training on 542649 raw words (403838 effective words) took 0.7s, 571269 effective words/s\n",
      "2021-04-25 21:55:08,761 : INFO : worker thread finished; awaiting finish of 2 more threads\n",
      "2021-04-25 21:55:08,764 : INFO : worker thread finished; awaiting finish of 1 more threads\n",
      "2021-04-25 21:55:08,773 : INFO : worker thread finished; awaiting finish of 0 more threads\n",
      "2021-04-25 21:55:08,775 : INFO : EPOCH - 43 : training on 542649 raw words (403531 effective words) took 0.6s, 724029 effective words/s\n",
      "2021-04-25 21:55:09,326 : INFO : worker thread finished; awaiting finish of 2 more threads\n",
      "2021-04-25 21:55:09,330 : INFO : worker thread finished; awaiting finish of 1 more threads\n",
      "2021-04-25 21:55:09,336 : INFO : worker thread finished; awaiting finish of 0 more threads\n",
      "2021-04-25 21:55:09,337 : INFO : EPOCH - 44 : training on 542649 raw words (403710 effective words) took 0.6s, 726582 effective words/s\n",
      "2021-04-25 21:55:09,857 : INFO : worker thread finished; awaiting finish of 2 more threads\n",
      "2021-04-25 21:55:09,859 : INFO : worker thread finished; awaiting finish of 1 more threads\n",
      "2021-04-25 21:55:09,859 : INFO : worker thread finished; awaiting finish of 0 more threads\n",
      "2021-04-25 21:55:09,860 : INFO : EPOCH - 45 : training on 542649 raw words (403618 effective words) took 0.5s, 776155 effective words/s\n",
      "2021-04-25 21:55:10,358 : INFO : worker thread finished; awaiting finish of 2 more threads\n",
      "2021-04-25 21:55:10,364 : INFO : worker thread finished; awaiting finish of 1 more threads\n",
      "2021-04-25 21:55:10,365 : INFO : worker thread finished; awaiting finish of 0 more threads\n",
      "2021-04-25 21:55:10,366 : INFO : EPOCH - 46 : training on 542649 raw words (403671 effective words) took 0.5s, 801738 effective words/s\n",
      "2021-04-25 21:55:10,871 : INFO : worker thread finished; awaiting finish of 2 more threads\n",
      "2021-04-25 21:55:10,874 : INFO : worker thread finished; awaiting finish of 1 more threads\n",
      "2021-04-25 21:55:10,887 : INFO : worker thread finished; awaiting finish of 0 more threads\n",
      "2021-04-25 21:55:10,889 : INFO : EPOCH - 47 : training on 542649 raw words (403800 effective words) took 0.5s, 777462 effective words/s\n",
      "2021-04-25 21:55:11,440 : INFO : worker thread finished; awaiting finish of 2 more threads\n",
      "2021-04-25 21:55:11,445 : INFO : worker thread finished; awaiting finish of 1 more threads\n",
      "2021-04-25 21:55:11,449 : INFO : worker thread finished; awaiting finish of 0 more threads\n",
      "2021-04-25 21:55:11,450 : INFO : EPOCH - 48 : training on 542649 raw words (403874 effective words) took 0.6s, 729640 effective words/s\n",
      "2021-04-25 21:55:12,013 : INFO : worker thread finished; awaiting finish of 2 more threads\n",
      "2021-04-25 21:55:12,023 : INFO : worker thread finished; awaiting finish of 1 more threads\n",
      "2021-04-25 21:55:12,029 : INFO : worker thread finished; awaiting finish of 0 more threads\n",
      "2021-04-25 21:55:12,030 : INFO : EPOCH - 49 : training on 542649 raw words (403723 effective words) took 0.6s, 699294 effective words/s\n",
      "2021-04-25 21:55:12,759 : INFO : worker thread finished; awaiting finish of 2 more threads\n",
      "2021-04-25 21:55:12,763 : INFO : worker thread finished; awaiting finish of 1 more threads\n",
      "2021-04-25 21:55:12,792 : INFO : worker thread finished; awaiting finish of 0 more threads\n",
      "2021-04-25 21:55:12,794 : INFO : EPOCH - 50 : training on 542649 raw words (403561 effective words) took 0.8s, 535043 effective words/s\n",
      "2021-04-25 21:55:13,389 : INFO : worker thread finished; awaiting finish of 2 more threads\n",
      "2021-04-25 21:55:13,392 : INFO : worker thread finished; awaiting finish of 1 more threads\n",
      "2021-04-25 21:55:13,401 : INFO : worker thread finished; awaiting finish of 0 more threads\n",
      "2021-04-25 21:55:13,402 : INFO : EPOCH - 51 : training on 542649 raw words (403447 effective words) took 0.6s, 678651 effective words/s\n",
      "2021-04-25 21:55:13,914 : INFO : worker thread finished; awaiting finish of 2 more threads\n",
      "2021-04-25 21:55:13,920 : INFO : worker thread finished; awaiting finish of 1 more threads\n",
      "2021-04-25 21:55:13,922 : INFO : worker thread finished; awaiting finish of 0 more threads\n",
      "2021-04-25 21:55:13,923 : INFO : EPOCH - 52 : training on 542649 raw words (403448 effective words) took 0.5s, 777222 effective words/s\n",
      "2021-04-25 21:55:14,380 : INFO : worker thread finished; awaiting finish of 2 more threads\n",
      "2021-04-25 21:55:14,383 : INFO : worker thread finished; awaiting finish of 1 more threads\n",
      "2021-04-25 21:55:14,388 : INFO : worker thread finished; awaiting finish of 0 more threads\n",
      "2021-04-25 21:55:14,389 : INFO : EPOCH - 53 : training on 542649 raw words (403065 effective words) took 0.5s, 873480 effective words/s\n",
      "2021-04-25 21:55:14,843 : INFO : worker thread finished; awaiting finish of 2 more threads\n",
      "2021-04-25 21:55:14,846 : INFO : worker thread finished; awaiting finish of 1 more threads\n",
      "2021-04-25 21:55:14,846 : INFO : worker thread finished; awaiting finish of 0 more threads\n",
      "2021-04-25 21:55:14,847 : INFO : EPOCH - 54 : training on 542649 raw words (403699 effective words) took 0.5s, 886862 effective words/s\n",
      "2021-04-25 21:55:15,287 : INFO : worker thread finished; awaiting finish of 2 more threads\n",
      "2021-04-25 21:55:15,289 : INFO : worker thread finished; awaiting finish of 1 more threads\n",
      "2021-04-25 21:55:15,295 : INFO : worker thread finished; awaiting finish of 0 more threads\n",
      "2021-04-25 21:55:15,296 : INFO : EPOCH - 55 : training on 542649 raw words (403729 effective words) took 0.4s, 904432 effective words/s\n",
      "2021-04-25 21:55:15,742 : INFO : worker thread finished; awaiting finish of 2 more threads\n",
      "2021-04-25 21:55:15,747 : INFO : worker thread finished; awaiting finish of 1 more threads\n",
      "2021-04-25 21:55:15,752 : INFO : worker thread finished; awaiting finish of 0 more threads\n",
      "2021-04-25 21:55:15,752 : INFO : EPOCH - 56 : training on 542649 raw words (403453 effective words) took 0.5s, 889478 effective words/s\n",
      "2021-04-25 21:55:16,218 : INFO : worker thread finished; awaiting finish of 2 more threads\n",
      "2021-04-25 21:55:16,222 : INFO : worker thread finished; awaiting finish of 1 more threads\n",
      "2021-04-25 21:55:16,228 : INFO : worker thread finished; awaiting finish of 0 more threads\n",
      "2021-04-25 21:55:16,229 : INFO : EPOCH - 57 : training on 542649 raw words (403809 effective words) took 0.5s, 851775 effective words/s\n",
      "2021-04-25 21:55:16,686 : INFO : worker thread finished; awaiting finish of 2 more threads\n",
      "2021-04-25 21:55:16,688 : INFO : worker thread finished; awaiting finish of 1 more threads\n",
      "2021-04-25 21:55:16,689 : INFO : worker thread finished; awaiting finish of 0 more threads\n",
      "2021-04-25 21:55:16,690 : INFO : EPOCH - 58 : training on 542649 raw words (403339 effective words) took 0.5s, 881152 effective words/s\n",
      "2021-04-25 21:55:17,239 : INFO : worker thread finished; awaiting finish of 2 more threads\n",
      "2021-04-25 21:55:17,250 : INFO : worker thread finished; awaiting finish of 1 more threads\n",
      "2021-04-25 21:55:17,259 : INFO : worker thread finished; awaiting finish of 0 more threads\n",
      "2021-04-25 21:55:17,260 : INFO : EPOCH - 59 : training on 542649 raw words (403753 effective words) took 0.6s, 711921 effective words/s\n",
      "2021-04-25 21:55:17,849 : INFO : worker thread finished; awaiting finish of 2 more threads\n",
      "2021-04-25 21:55:17,851 : INFO : worker thread finished; awaiting finish of 1 more threads\n",
      "2021-04-25 21:55:17,859 : INFO : worker thread finished; awaiting finish of 0 more threads\n"
     ]
    },
    {
     "name": "stderr",
     "output_type": "stream",
     "text": [
      "2021-04-25 21:55:17,860 : INFO : EPOCH - 60 : training on 542649 raw words (403589 effective words) took 0.6s, 676407 effective words/s\n",
      "2021-04-25 21:55:18,321 : INFO : worker thread finished; awaiting finish of 2 more threads\n",
      "2021-04-25 21:55:18,329 : INFO : worker thread finished; awaiting finish of 1 more threads\n",
      "2021-04-25 21:55:18,332 : INFO : worker thread finished; awaiting finish of 0 more threads\n",
      "2021-04-25 21:55:18,335 : INFO : EPOCH - 61 : training on 542649 raw words (403378 effective words) took 0.5s, 853560 effective words/s\n",
      "2021-04-25 21:55:18,832 : INFO : worker thread finished; awaiting finish of 2 more threads\n",
      "2021-04-25 21:55:18,836 : INFO : worker thread finished; awaiting finish of 1 more threads\n",
      "2021-04-25 21:55:18,842 : INFO : worker thread finished; awaiting finish of 0 more threads\n",
      "2021-04-25 21:55:18,842 : INFO : EPOCH - 62 : training on 542649 raw words (403314 effective words) took 0.5s, 801424 effective words/s\n",
      "2021-04-25 21:55:19,308 : INFO : worker thread finished; awaiting finish of 2 more threads\n",
      "2021-04-25 21:55:19,311 : INFO : worker thread finished; awaiting finish of 1 more threads\n",
      "2021-04-25 21:55:19,315 : INFO : worker thread finished; awaiting finish of 0 more threads\n",
      "2021-04-25 21:55:19,316 : INFO : EPOCH - 63 : training on 542649 raw words (403452 effective words) took 0.5s, 856341 effective words/s\n",
      "2021-04-25 21:55:19,754 : INFO : worker thread finished; awaiting finish of 2 more threads\n",
      "2021-04-25 21:55:19,762 : INFO : worker thread finished; awaiting finish of 1 more threads\n",
      "2021-04-25 21:55:19,763 : INFO : worker thread finished; awaiting finish of 0 more threads\n",
      "2021-04-25 21:55:19,764 : INFO : EPOCH - 64 : training on 542649 raw words (403126 effective words) took 0.4s, 906029 effective words/s\n",
      "2021-04-25 21:55:20,230 : INFO : worker thread finished; awaiting finish of 2 more threads\n",
      "2021-04-25 21:55:20,232 : INFO : worker thread finished; awaiting finish of 1 more threads\n",
      "2021-04-25 21:55:20,248 : INFO : worker thread finished; awaiting finish of 0 more threads\n",
      "2021-04-25 21:55:20,249 : INFO : EPOCH - 65 : training on 542649 raw words (403402 effective words) took 0.5s, 835078 effective words/s\n",
      "2021-04-25 21:55:20,796 : INFO : worker thread finished; awaiting finish of 2 more threads\n",
      "2021-04-25 21:55:20,799 : INFO : worker thread finished; awaiting finish of 1 more threads\n",
      "2021-04-25 21:55:20,805 : INFO : worker thread finished; awaiting finish of 0 more threads\n",
      "2021-04-25 21:55:20,806 : INFO : EPOCH - 66 : training on 542649 raw words (403190 effective words) took 0.6s, 731502 effective words/s\n",
      "2021-04-25 21:55:21,751 : INFO : worker thread finished; awaiting finish of 2 more threads\n",
      "2021-04-25 21:55:21,755 : INFO : worker thread finished; awaiting finish of 1 more threads\n",
      "2021-04-25 21:55:21,773 : INFO : worker thread finished; awaiting finish of 0 more threads\n",
      "2021-04-25 21:55:21,774 : INFO : EPOCH - 67 : training on 542649 raw words (403496 effective words) took 1.0s, 417954 effective words/s\n",
      "2021-04-25 21:55:22,387 : INFO : worker thread finished; awaiting finish of 2 more threads\n",
      "2021-04-25 21:55:22,389 : INFO : worker thread finished; awaiting finish of 1 more threads\n",
      "2021-04-25 21:55:22,398 : INFO : worker thread finished; awaiting finish of 0 more threads\n",
      "2021-04-25 21:55:22,399 : INFO : EPOCH - 68 : training on 542649 raw words (403528 effective words) took 0.6s, 649700 effective words/s\n",
      "2021-04-25 21:55:23,011 : INFO : worker thread finished; awaiting finish of 2 more threads\n",
      "2021-04-25 21:55:23,014 : INFO : worker thread finished; awaiting finish of 1 more threads\n",
      "2021-04-25 21:55:23,022 : INFO : worker thread finished; awaiting finish of 0 more threads\n",
      "2021-04-25 21:55:23,023 : INFO : EPOCH - 69 : training on 542649 raw words (403479 effective words) took 0.6s, 649682 effective words/s\n",
      "2021-04-25 21:55:23,513 : INFO : worker thread finished; awaiting finish of 2 more threads\n",
      "2021-04-25 21:55:23,519 : INFO : worker thread finished; awaiting finish of 1 more threads\n",
      "2021-04-25 21:55:23,525 : INFO : worker thread finished; awaiting finish of 0 more threads\n",
      "2021-04-25 21:55:23,527 : INFO : EPOCH - 70 : training on 542649 raw words (404083 effective words) took 0.5s, 805005 effective words/s\n",
      "2021-04-25 21:55:24,154 : INFO : worker thread finished; awaiting finish of 2 more threads\n",
      "2021-04-25 21:55:24,159 : INFO : worker thread finished; awaiting finish of 1 more threads\n",
      "2021-04-25 21:55:24,171 : INFO : worker thread finished; awaiting finish of 0 more threads\n",
      "2021-04-25 21:55:24,171 : INFO : EPOCH - 71 : training on 542649 raw words (403657 effective words) took 0.6s, 631567 effective words/s\n",
      "2021-04-25 21:55:24,806 : INFO : worker thread finished; awaiting finish of 2 more threads\n",
      "2021-04-25 21:55:24,822 : INFO : worker thread finished; awaiting finish of 1 more threads\n",
      "2021-04-25 21:55:24,826 : INFO : worker thread finished; awaiting finish of 0 more threads\n",
      "2021-04-25 21:55:24,827 : INFO : EPOCH - 72 : training on 542649 raw words (403414 effective words) took 0.7s, 616985 effective words/s\n",
      "2021-04-25 21:55:25,537 : INFO : worker thread finished; awaiting finish of 2 more threads\n",
      "2021-04-25 21:55:25,541 : INFO : worker thread finished; awaiting finish of 1 more threads\n",
      "2021-04-25 21:55:25,553 : INFO : worker thread finished; awaiting finish of 0 more threads\n",
      "2021-04-25 21:55:25,555 : INFO : EPOCH - 73 : training on 542649 raw words (403513 effective words) took 0.7s, 558951 effective words/s\n",
      "2021-04-25 21:55:26,072 : INFO : worker thread finished; awaiting finish of 2 more threads\n",
      "2021-04-25 21:55:26,077 : INFO : worker thread finished; awaiting finish of 1 more threads\n",
      "2021-04-25 21:55:26,080 : INFO : worker thread finished; awaiting finish of 0 more threads\n",
      "2021-04-25 21:55:26,081 : INFO : EPOCH - 74 : training on 542649 raw words (403875 effective words) took 0.5s, 776681 effective words/s\n",
      "2021-04-25 21:55:26,552 : INFO : worker thread finished; awaiting finish of 2 more threads\n",
      "2021-04-25 21:55:26,557 : INFO : worker thread finished; awaiting finish of 1 more threads\n",
      "2021-04-25 21:55:26,559 : INFO : worker thread finished; awaiting finish of 0 more threads\n",
      "2021-04-25 21:55:26,560 : INFO : EPOCH - 75 : training on 542649 raw words (403731 effective words) took 0.5s, 848442 effective words/s\n",
      "2021-04-25 21:55:27,001 : INFO : worker thread finished; awaiting finish of 2 more threads\n",
      "2021-04-25 21:55:27,004 : INFO : worker thread finished; awaiting finish of 1 more threads\n",
      "2021-04-25 21:55:27,012 : INFO : worker thread finished; awaiting finish of 0 more threads\n",
      "2021-04-25 21:55:27,014 : INFO : EPOCH - 76 : training on 542649 raw words (403410 effective words) took 0.5s, 892373 effective words/s\n",
      "2021-04-25 21:55:27,513 : INFO : worker thread finished; awaiting finish of 2 more threads\n",
      "2021-04-25 21:55:27,515 : INFO : worker thread finished; awaiting finish of 1 more threads\n",
      "2021-04-25 21:55:27,522 : INFO : worker thread finished; awaiting finish of 0 more threads\n",
      "2021-04-25 21:55:27,523 : INFO : EPOCH - 77 : training on 542649 raw words (403426 effective words) took 0.5s, 803162 effective words/s\n",
      "2021-04-25 21:55:27,995 : INFO : worker thread finished; awaiting finish of 2 more threads\n",
      "2021-04-25 21:55:27,997 : INFO : worker thread finished; awaiting finish of 1 more threads\n",
      "2021-04-25 21:55:28,004 : INFO : worker thread finished; awaiting finish of 0 more threads\n",
      "2021-04-25 21:55:28,005 : INFO : EPOCH - 78 : training on 542649 raw words (403769 effective words) took 0.5s, 842463 effective words/s\n",
      "2021-04-25 21:55:28,454 : INFO : worker thread finished; awaiting finish of 2 more threads\n",
      "2021-04-25 21:55:28,455 : INFO : worker thread finished; awaiting finish of 1 more threads\n",
      "2021-04-25 21:55:28,458 : INFO : worker thread finished; awaiting finish of 0 more threads\n",
      "2021-04-25 21:55:28,459 : INFO : EPOCH - 79 : training on 542649 raw words (403451 effective words) took 0.5s, 895659 effective words/s\n",
      "2021-04-25 21:55:28,911 : INFO : worker thread finished; awaiting finish of 2 more threads\n",
      "2021-04-25 21:55:28,916 : INFO : worker thread finished; awaiting finish of 1 more threads\n",
      "2021-04-25 21:55:28,923 : INFO : worker thread finished; awaiting finish of 0 more threads\n",
      "2021-04-25 21:55:28,924 : INFO : EPOCH - 80 : training on 542649 raw words (403317 effective words) took 0.5s, 872089 effective words/s\n"
     ]
    },
    {
     "name": "stderr",
     "output_type": "stream",
     "text": [
      "2021-04-25 21:55:29,412 : INFO : worker thread finished; awaiting finish of 2 more threads\n",
      "2021-04-25 21:55:29,422 : INFO : worker thread finished; awaiting finish of 1 more threads\n",
      "2021-04-25 21:55:29,430 : INFO : worker thread finished; awaiting finish of 0 more threads\n",
      "2021-04-25 21:55:29,431 : INFO : EPOCH - 81 : training on 542649 raw words (403261 effective words) took 0.5s, 798891 effective words/s\n",
      "2021-04-25 21:55:29,919 : INFO : worker thread finished; awaiting finish of 2 more threads\n",
      "2021-04-25 21:55:29,923 : INFO : worker thread finished; awaiting finish of 1 more threads\n",
      "2021-04-25 21:55:29,926 : INFO : worker thread finished; awaiting finish of 0 more threads\n",
      "2021-04-25 21:55:29,927 : INFO : EPOCH - 82 : training on 542649 raw words (403336 effective words) took 0.5s, 821028 effective words/s\n",
      "2021-04-25 21:55:30,378 : INFO : worker thread finished; awaiting finish of 2 more threads\n",
      "2021-04-25 21:55:30,380 : INFO : worker thread finished; awaiting finish of 1 more threads\n",
      "2021-04-25 21:55:30,386 : INFO : worker thread finished; awaiting finish of 0 more threads\n",
      "2021-04-25 21:55:30,387 : INFO : EPOCH - 83 : training on 542649 raw words (403666 effective words) took 0.5s, 882973 effective words/s\n",
      "2021-04-25 21:55:30,843 : INFO : worker thread finished; awaiting finish of 2 more threads\n",
      "2021-04-25 21:55:30,847 : INFO : worker thread finished; awaiting finish of 1 more threads\n",
      "2021-04-25 21:55:30,856 : INFO : worker thread finished; awaiting finish of 0 more threads\n",
      "2021-04-25 21:55:30,857 : INFO : EPOCH - 84 : training on 542649 raw words (403636 effective words) took 0.5s, 862810 effective words/s\n",
      "2021-04-25 21:55:31,318 : INFO : worker thread finished; awaiting finish of 2 more threads\n",
      "2021-04-25 21:55:31,319 : INFO : worker thread finished; awaiting finish of 1 more threads\n",
      "2021-04-25 21:55:31,322 : INFO : worker thread finished; awaiting finish of 0 more threads\n",
      "2021-04-25 21:55:31,323 : INFO : EPOCH - 85 : training on 542649 raw words (403720 effective words) took 0.5s, 871914 effective words/s\n",
      "2021-04-25 21:55:31,782 : INFO : worker thread finished; awaiting finish of 2 more threads\n",
      "2021-04-25 21:55:31,784 : INFO : worker thread finished; awaiting finish of 1 more threads\n",
      "2021-04-25 21:55:31,793 : INFO : worker thread finished; awaiting finish of 0 more threads\n",
      "2021-04-25 21:55:31,793 : INFO : EPOCH - 86 : training on 542649 raw words (403478 effective words) took 0.5s, 862230 effective words/s\n",
      "2021-04-25 21:55:32,247 : INFO : worker thread finished; awaiting finish of 2 more threads\n",
      "2021-04-25 21:55:32,251 : INFO : worker thread finished; awaiting finish of 1 more threads\n",
      "2021-04-25 21:55:32,258 : INFO : worker thread finished; awaiting finish of 0 more threads\n",
      "2021-04-25 21:55:32,258 : INFO : EPOCH - 87 : training on 542649 raw words (403394 effective words) took 0.5s, 874427 effective words/s\n",
      "2021-04-25 21:55:32,722 : INFO : worker thread finished; awaiting finish of 2 more threads\n",
      "2021-04-25 21:55:32,728 : INFO : worker thread finished; awaiting finish of 1 more threads\n",
      "2021-04-25 21:55:32,729 : INFO : worker thread finished; awaiting finish of 0 more threads\n",
      "2021-04-25 21:55:32,730 : INFO : EPOCH - 88 : training on 542649 raw words (403330 effective words) took 0.5s, 861927 effective words/s\n",
      "2021-04-25 21:55:33,200 : INFO : worker thread finished; awaiting finish of 2 more threads\n",
      "2021-04-25 21:55:33,202 : INFO : worker thread finished; awaiting finish of 1 more threads\n",
      "2021-04-25 21:55:33,210 : INFO : worker thread finished; awaiting finish of 0 more threads\n",
      "2021-04-25 21:55:33,210 : INFO : EPOCH - 89 : training on 542649 raw words (403981 effective words) took 0.5s, 846251 effective words/s\n",
      "2021-04-25 21:55:33,686 : INFO : worker thread finished; awaiting finish of 2 more threads\n",
      "2021-04-25 21:55:33,690 : INFO : worker thread finished; awaiting finish of 1 more threads\n",
      "2021-04-25 21:55:33,694 : INFO : worker thread finished; awaiting finish of 0 more threads\n",
      "2021-04-25 21:55:33,695 : INFO : EPOCH - 90 : training on 542649 raw words (403700 effective words) took 0.5s, 837976 effective words/s\n",
      "2021-04-25 21:55:34,164 : INFO : worker thread finished; awaiting finish of 2 more threads\n",
      "2021-04-25 21:55:34,166 : INFO : worker thread finished; awaiting finish of 1 more threads\n",
      "2021-04-25 21:55:34,170 : INFO : worker thread finished; awaiting finish of 0 more threads\n",
      "2021-04-25 21:55:34,171 : INFO : EPOCH - 91 : training on 542649 raw words (404051 effective words) took 0.5s, 854307 effective words/s\n",
      "2021-04-25 21:55:34,629 : INFO : worker thread finished; awaiting finish of 2 more threads\n",
      "2021-04-25 21:55:34,631 : INFO : worker thread finished; awaiting finish of 1 more threads\n",
      "2021-04-25 21:55:34,632 : INFO : worker thread finished; awaiting finish of 0 more threads\n",
      "2021-04-25 21:55:34,633 : INFO : EPOCH - 92 : training on 542649 raw words (403455 effective words) took 0.5s, 878646 effective words/s\n",
      "2021-04-25 21:55:35,300 : INFO : worker thread finished; awaiting finish of 2 more threads\n",
      "2021-04-25 21:55:35,302 : INFO : worker thread finished; awaiting finish of 1 more threads\n",
      "2021-04-25 21:55:35,310 : INFO : worker thread finished; awaiting finish of 0 more threads\n",
      "2021-04-25 21:55:35,311 : INFO : EPOCH - 93 : training on 542649 raw words (403417 effective words) took 0.7s, 597615 effective words/s\n",
      "2021-04-25 21:55:35,885 : INFO : worker thread finished; awaiting finish of 2 more threads\n",
      "2021-04-25 21:55:35,894 : INFO : worker thread finished; awaiting finish of 1 more threads\n",
      "2021-04-25 21:55:35,895 : INFO : worker thread finished; awaiting finish of 0 more threads\n",
      "2021-04-25 21:55:35,896 : INFO : EPOCH - 94 : training on 542649 raw words (403834 effective words) took 0.6s, 693226 effective words/s\n",
      "2021-04-25 21:55:36,580 : INFO : worker thread finished; awaiting finish of 2 more threads\n",
      "2021-04-25 21:55:36,584 : INFO : worker thread finished; awaiting finish of 1 more threads\n",
      "2021-04-25 21:55:36,594 : INFO : worker thread finished; awaiting finish of 0 more threads\n",
      "2021-04-25 21:55:36,595 : INFO : EPOCH - 95 : training on 542649 raw words (404167 effective words) took 0.7s, 580767 effective words/s\n",
      "2021-04-25 21:55:37,384 : INFO : worker thread finished; awaiting finish of 2 more threads\n",
      "2021-04-25 21:55:37,393 : INFO : worker thread finished; awaiting finish of 1 more threads\n",
      "2021-04-25 21:55:37,397 : INFO : worker thread finished; awaiting finish of 0 more threads\n",
      "2021-04-25 21:55:37,398 : INFO : EPOCH - 96 : training on 542649 raw words (403444 effective words) took 0.8s, 504006 effective words/s\n",
      "2021-04-25 21:55:38,203 : INFO : worker thread finished; awaiting finish of 2 more threads\n",
      "2021-04-25 21:55:38,212 : INFO : worker thread finished; awaiting finish of 1 more threads\n",
      "2021-04-25 21:55:38,223 : INFO : worker thread finished; awaiting finish of 0 more threads\n",
      "2021-04-25 21:55:38,227 : INFO : EPOCH - 97 : training on 542649 raw words (403902 effective words) took 0.8s, 489066 effective words/s\n",
      "2021-04-25 21:55:39,026 : INFO : worker thread finished; awaiting finish of 2 more threads\n",
      "2021-04-25 21:55:39,035 : INFO : worker thread finished; awaiting finish of 1 more threads\n",
      "2021-04-25 21:55:39,042 : INFO : worker thread finished; awaiting finish of 0 more threads\n",
      "2021-04-25 21:55:39,043 : INFO : EPOCH - 98 : training on 542649 raw words (403229 effective words) took 0.8s, 496727 effective words/s\n",
      "2021-04-25 21:55:39,670 : INFO : worker thread finished; awaiting finish of 2 more threads\n",
      "2021-04-25 21:55:39,674 : INFO : worker thread finished; awaiting finish of 1 more threads\n",
      "2021-04-25 21:55:39,685 : INFO : worker thread finished; awaiting finish of 0 more threads\n",
      "2021-04-25 21:55:39,687 : INFO : EPOCH - 99 : training on 542649 raw words (403571 effective words) took 0.6s, 630908 effective words/s\n",
      "2021-04-25 21:55:40,239 : INFO : worker thread finished; awaiting finish of 2 more threads\n",
      "2021-04-25 21:55:40,245 : INFO : worker thread finished; awaiting finish of 1 more threads\n",
      "2021-04-25 21:55:40,248 : INFO : worker thread finished; awaiting finish of 0 more threads\n",
      "2021-04-25 21:55:40,249 : INFO : EPOCH - 100 : training on 542649 raw words (403686 effective words) took 0.6s, 724540 effective words/s\n",
      "2021-04-25 21:55:40,251 : INFO : Doc2Vec lifecycle event {'msg': 'training on 54264900 raw words (40358186 effective words) took 56.9s, 709098 effective words/s', 'datetime': '2021-04-25T21:55:40.251848', 'gensim': '4.0.1', 'python': '3.8.5 (default, Sep  3 2020, 21:29:08) [MSC v.1916 64 bit (AMD64)]', 'platform': 'Windows-10-10.0.19041-SP0', 'event': 'train'}\n"
     ]
    },
    {
     "name": "stderr",
     "output_type": "stream",
     "text": [
      "2021-04-25 21:55:40,252 : INFO : Doc2Vec lifecycle event {'msg': 'training model with 3 workers on 2575 vocabulary and 100 features, using sg=0 hs=0 sample=0.001 negative=5 window=5', 'datetime': '2021-04-25T21:55:40.252837', 'gensim': '4.0.1', 'python': '3.8.5 (default, Sep  3 2020, 21:29:08) [MSC v.1916 64 bit (AMD64)]', 'platform': 'Windows-10-10.0.19041-SP0', 'event': 'train'}\n",
      "2021-04-25 21:55:40,470 : INFO : worker thread finished; awaiting finish of 2 more threads\n",
      "2021-04-25 21:55:40,483 : INFO : worker thread finished; awaiting finish of 1 more threads\n",
      "2021-04-25 21:55:40,519 : INFO : worker thread finished; awaiting finish of 0 more threads\n",
      "2021-04-25 21:55:40,519 : INFO : EPOCH - 1 : training on 39979 raw words (31506 effective words) took 0.3s, 122010 effective words/s\n",
      "2021-04-25 21:55:40,737 : INFO : worker thread finished; awaiting finish of 2 more threads\n",
      "2021-04-25 21:55:40,742 : INFO : worker thread finished; awaiting finish of 1 more threads\n",
      "2021-04-25 21:55:40,792 : INFO : worker thread finished; awaiting finish of 0 more threads\n",
      "2021-04-25 21:55:40,794 : INFO : EPOCH - 2 : training on 39979 raw words (31436 effective words) took 0.3s, 118320 effective words/s\n",
      "2021-04-25 21:55:41,028 : INFO : worker thread finished; awaiting finish of 2 more threads\n",
      "2021-04-25 21:55:41,035 : INFO : worker thread finished; awaiting finish of 1 more threads\n",
      "2021-04-25 21:55:41,074 : INFO : worker thread finished; awaiting finish of 0 more threads\n",
      "2021-04-25 21:55:41,075 : INFO : EPOCH - 3 : training on 39979 raw words (31436 effective words) took 0.3s, 115968 effective words/s\n",
      "2021-04-25 21:55:41,340 : INFO : worker thread finished; awaiting finish of 2 more threads\n",
      "2021-04-25 21:55:41,345 : INFO : worker thread finished; awaiting finish of 1 more threads\n",
      "2021-04-25 21:55:41,417 : INFO : worker thread finished; awaiting finish of 0 more threads\n",
      "2021-04-25 21:55:41,419 : INFO : EPOCH - 4 : training on 39979 raw words (31308 effective words) took 0.3s, 93050 effective words/s\n",
      "2021-04-25 21:55:41,812 : INFO : worker thread finished; awaiting finish of 2 more threads\n",
      "2021-04-25 21:55:41,821 : INFO : worker thread finished; awaiting finish of 1 more threads\n",
      "2021-04-25 21:55:41,917 : INFO : worker thread finished; awaiting finish of 0 more threads\n",
      "2021-04-25 21:55:41,918 : INFO : EPOCH - 5 : training on 39979 raw words (31540 effective words) took 0.5s, 64165 effective words/s\n",
      "2021-04-25 21:55:42,176 : INFO : worker thread finished; awaiting finish of 2 more threads\n",
      "2021-04-25 21:55:42,178 : INFO : worker thread finished; awaiting finish of 1 more threads\n",
      "2021-04-25 21:55:42,222 : INFO : worker thread finished; awaiting finish of 0 more threads\n",
      "2021-04-25 21:55:42,223 : INFO : EPOCH - 6 : training on 39979 raw words (31416 effective words) took 0.3s, 105736 effective words/s\n",
      "2021-04-25 21:55:42,502 : INFO : worker thread finished; awaiting finish of 2 more threads\n",
      "2021-04-25 21:55:42,506 : INFO : worker thread finished; awaiting finish of 1 more threads\n",
      "2021-04-25 21:55:42,565 : INFO : worker thread finished; awaiting finish of 0 more threads\n",
      "2021-04-25 21:55:42,566 : INFO : EPOCH - 7 : training on 39979 raw words (31466 effective words) took 0.3s, 93467 effective words/s\n",
      "2021-04-25 21:55:42,792 : INFO : worker thread finished; awaiting finish of 2 more threads\n",
      "2021-04-25 21:55:42,798 : INFO : worker thread finished; awaiting finish of 1 more threads\n",
      "2021-04-25 21:55:42,832 : INFO : worker thread finished; awaiting finish of 0 more threads\n",
      "2021-04-25 21:55:42,834 : INFO : EPOCH - 8 : training on 39979 raw words (31391 effective words) took 0.3s, 121407 effective words/s\n",
      "2021-04-25 21:55:43,056 : INFO : worker thread finished; awaiting finish of 2 more threads\n",
      "2021-04-25 21:55:43,062 : INFO : worker thread finished; awaiting finish of 1 more threads\n",
      "2021-04-25 21:55:43,132 : INFO : worker thread finished; awaiting finish of 0 more threads\n",
      "2021-04-25 21:55:43,133 : INFO : EPOCH - 9 : training on 39979 raw words (31474 effective words) took 0.3s, 107571 effective words/s\n",
      "2021-04-25 21:55:43,383 : INFO : worker thread finished; awaiting finish of 2 more threads\n",
      "2021-04-25 21:55:43,388 : INFO : worker thread finished; awaiting finish of 1 more threads\n",
      "2021-04-25 21:55:43,446 : INFO : worker thread finished; awaiting finish of 0 more threads\n",
      "2021-04-25 21:55:43,447 : INFO : EPOCH - 10 : training on 39979 raw words (31405 effective words) took 0.3s, 102867 effective words/s\n",
      "2021-04-25 21:55:43,685 : INFO : worker thread finished; awaiting finish of 2 more threads\n",
      "2021-04-25 21:55:43,699 : INFO : worker thread finished; awaiting finish of 1 more threads\n",
      "2021-04-25 21:55:43,734 : INFO : worker thread finished; awaiting finish of 0 more threads\n",
      "2021-04-25 21:55:43,734 : INFO : EPOCH - 11 : training on 39979 raw words (31483 effective words) took 0.3s, 113769 effective words/s\n",
      "2021-04-25 21:55:43,943 : INFO : worker thread finished; awaiting finish of 2 more threads\n",
      "2021-04-25 21:55:43,953 : INFO : worker thread finished; awaiting finish of 1 more threads\n",
      "2021-04-25 21:55:43,998 : INFO : worker thread finished; awaiting finish of 0 more threads\n",
      "2021-04-25 21:55:44,000 : INFO : EPOCH - 12 : training on 39979 raw words (31378 effective words) took 0.3s, 120985 effective words/s\n",
      "2021-04-25 21:55:44,239 : INFO : worker thread finished; awaiting finish of 2 more threads\n",
      "2021-04-25 21:55:44,243 : INFO : worker thread finished; awaiting finish of 1 more threads\n",
      "2021-04-25 21:55:44,283 : INFO : worker thread finished; awaiting finish of 0 more threads\n",
      "2021-04-25 21:55:44,284 : INFO : EPOCH - 13 : training on 39979 raw words (31404 effective words) took 0.3s, 114204 effective words/s\n",
      "2021-04-25 21:55:44,493 : INFO : worker thread finished; awaiting finish of 2 more threads\n",
      "2021-04-25 21:55:44,501 : INFO : worker thread finished; awaiting finish of 1 more threads\n",
      "2021-04-25 21:55:44,537 : INFO : worker thread finished; awaiting finish of 0 more threads\n",
      "2021-04-25 21:55:44,537 : INFO : EPOCH - 14 : training on 39979 raw words (31479 effective words) took 0.2s, 126901 effective words/s\n",
      "2021-04-25 21:55:44,738 : INFO : worker thread finished; awaiting finish of 2 more threads\n",
      "2021-04-25 21:55:44,746 : INFO : worker thread finished; awaiting finish of 1 more threads\n",
      "2021-04-25 21:55:44,783 : INFO : worker thread finished; awaiting finish of 0 more threads\n",
      "2021-04-25 21:55:44,784 : INFO : EPOCH - 15 : training on 39979 raw words (31420 effective words) took 0.2s, 130566 effective words/s\n",
      "2021-04-25 21:55:44,993 : INFO : worker thread finished; awaiting finish of 2 more threads\n",
      "2021-04-25 21:55:44,996 : INFO : worker thread finished; awaiting finish of 1 more threads\n",
      "2021-04-25 21:55:45,040 : INFO : worker thread finished; awaiting finish of 0 more threads\n",
      "2021-04-25 21:55:45,040 : INFO : EPOCH - 16 : training on 39979 raw words (31418 effective words) took 0.2s, 125747 effective words/s\n",
      "2021-04-25 21:55:45,261 : INFO : worker thread finished; awaiting finish of 2 more threads\n",
      "2021-04-25 21:55:45,272 : INFO : worker thread finished; awaiting finish of 1 more threads\n",
      "2021-04-25 21:55:45,310 : INFO : worker thread finished; awaiting finish of 0 more threads\n",
      "2021-04-25 21:55:45,311 : INFO : EPOCH - 17 : training on 39979 raw words (31403 effective words) took 0.3s, 118999 effective words/s\n",
      "2021-04-25 21:55:45,518 : INFO : worker thread finished; awaiting finish of 2 more threads\n",
      "2021-04-25 21:55:45,521 : INFO : worker thread finished; awaiting finish of 1 more threads\n",
      "2021-04-25 21:55:45,560 : INFO : worker thread finished; awaiting finish of 0 more threads\n",
      "2021-04-25 21:55:45,561 : INFO : EPOCH - 18 : training on 39979 raw words (31372 effective words) took 0.2s, 128744 effective words/s\n",
      "2021-04-25 21:55:45,815 : INFO : worker thread finished; awaiting finish of 2 more threads\n",
      "2021-04-25 21:55:45,822 : INFO : worker thread finished; awaiting finish of 1 more threads\n",
      "2021-04-25 21:55:45,877 : INFO : worker thread finished; awaiting finish of 0 more threads\n",
      "2021-04-25 21:55:45,878 : INFO : EPOCH - 19 : training on 39979 raw words (31448 effective words) took 0.3s, 101135 effective words/s\n",
      "2021-04-25 21:55:46,116 : INFO : worker thread finished; awaiting finish of 2 more threads\n"
     ]
    },
    {
     "name": "stderr",
     "output_type": "stream",
     "text": [
      "2021-04-25 21:55:46,137 : INFO : worker thread finished; awaiting finish of 1 more threads\n",
      "2021-04-25 21:55:46,199 : INFO : worker thread finished; awaiting finish of 0 more threads\n",
      "2021-04-25 21:55:46,200 : INFO : EPOCH - 20 : training on 39979 raw words (31491 effective words) took 0.3s, 100488 effective words/s\n",
      "2021-04-25 21:55:46,444 : INFO : worker thread finished; awaiting finish of 2 more threads\n",
      "2021-04-25 21:55:46,446 : INFO : worker thread finished; awaiting finish of 1 more threads\n",
      "2021-04-25 21:55:46,485 : INFO : worker thread finished; awaiting finish of 0 more threads\n",
      "2021-04-25 21:55:46,486 : INFO : EPOCH - 21 : training on 39979 raw words (31426 effective words) took 0.3s, 112931 effective words/s\n",
      "2021-04-25 21:55:46,713 : INFO : worker thread finished; awaiting finish of 2 more threads\n",
      "2021-04-25 21:55:46,718 : INFO : worker thread finished; awaiting finish of 1 more threads\n",
      "2021-04-25 21:55:46,753 : INFO : worker thread finished; awaiting finish of 0 more threads\n",
      "2021-04-25 21:55:46,754 : INFO : EPOCH - 22 : training on 39979 raw words (31466 effective words) took 0.3s, 120116 effective words/s\n",
      "2021-04-25 21:55:46,975 : INFO : worker thread finished; awaiting finish of 2 more threads\n",
      "2021-04-25 21:55:46,979 : INFO : worker thread finished; awaiting finish of 1 more threads\n",
      "2021-04-25 21:55:47,027 : INFO : worker thread finished; awaiting finish of 0 more threads\n",
      "2021-04-25 21:55:47,028 : INFO : EPOCH - 23 : training on 39979 raw words (31439 effective words) took 0.3s, 117132 effective words/s\n",
      "2021-04-25 21:55:47,259 : INFO : worker thread finished; awaiting finish of 2 more threads\n",
      "2021-04-25 21:55:47,263 : INFO : worker thread finished; awaiting finish of 1 more threads\n",
      "2021-04-25 21:55:47,315 : INFO : worker thread finished; awaiting finish of 0 more threads\n",
      "2021-04-25 21:55:47,316 : INFO : EPOCH - 24 : training on 39979 raw words (31427 effective words) took 0.3s, 114531 effective words/s\n",
      "2021-04-25 21:55:47,535 : INFO : worker thread finished; awaiting finish of 2 more threads\n",
      "2021-04-25 21:55:47,542 : INFO : worker thread finished; awaiting finish of 1 more threads\n",
      "2021-04-25 21:55:47,611 : INFO : worker thread finished; awaiting finish of 0 more threads\n",
      "2021-04-25 21:55:47,612 : INFO : EPOCH - 25 : training on 39979 raw words (31385 effective words) took 0.3s, 108207 effective words/s\n",
      "2021-04-25 21:55:47,839 : INFO : worker thread finished; awaiting finish of 2 more threads\n",
      "2021-04-25 21:55:47,848 : INFO : worker thread finished; awaiting finish of 1 more threads\n",
      "2021-04-25 21:55:47,896 : INFO : worker thread finished; awaiting finish of 0 more threads\n",
      "2021-04-25 21:55:47,897 : INFO : EPOCH - 26 : training on 39979 raw words (31330 effective words) took 0.3s, 113035 effective words/s\n",
      "2021-04-25 21:55:48,199 : INFO : worker thread finished; awaiting finish of 2 more threads\n",
      "2021-04-25 21:55:48,203 : INFO : worker thread finished; awaiting finish of 1 more threads\n",
      "2021-04-25 21:55:48,243 : INFO : worker thread finished; awaiting finish of 0 more threads\n",
      "2021-04-25 21:55:48,244 : INFO : EPOCH - 27 : training on 39979 raw words (31357 effective words) took 0.3s, 92452 effective words/s\n",
      "2021-04-25 21:55:48,465 : INFO : worker thread finished; awaiting finish of 2 more threads\n",
      "2021-04-25 21:55:48,472 : INFO : worker thread finished; awaiting finish of 1 more threads\n",
      "2021-04-25 21:55:48,509 : INFO : worker thread finished; awaiting finish of 0 more threads\n",
      "2021-04-25 21:55:48,510 : INFO : EPOCH - 28 : training on 39979 raw words (31333 effective words) took 0.3s, 120676 effective words/s\n",
      "2021-04-25 21:55:48,734 : INFO : worker thread finished; awaiting finish of 2 more threads\n",
      "2021-04-25 21:55:48,735 : INFO : worker thread finished; awaiting finish of 1 more threads\n",
      "2021-04-25 21:55:48,777 : INFO : worker thread finished; awaiting finish of 0 more threads\n",
      "2021-04-25 21:55:48,777 : INFO : EPOCH - 29 : training on 39979 raw words (31473 effective words) took 0.3s, 121646 effective words/s\n",
      "2021-04-25 21:55:49,056 : INFO : worker thread finished; awaiting finish of 2 more threads\n",
      "2021-04-25 21:55:49,058 : INFO : worker thread finished; awaiting finish of 1 more threads\n",
      "2021-04-25 21:55:49,127 : INFO : worker thread finished; awaiting finish of 0 more threads\n",
      "2021-04-25 21:55:49,128 : INFO : EPOCH - 30 : training on 39979 raw words (31494 effective words) took 0.3s, 91503 effective words/s\n",
      "2021-04-25 21:55:49,383 : INFO : worker thread finished; awaiting finish of 2 more threads\n",
      "2021-04-25 21:55:49,395 : INFO : worker thread finished; awaiting finish of 1 more threads\n",
      "2021-04-25 21:55:49,452 : INFO : worker thread finished; awaiting finish of 0 more threads\n",
      "2021-04-25 21:55:49,454 : INFO : EPOCH - 31 : training on 39979 raw words (31511 effective words) took 0.3s, 99558 effective words/s\n",
      "2021-04-25 21:55:49,710 : INFO : worker thread finished; awaiting finish of 2 more threads\n",
      "2021-04-25 21:55:49,722 : INFO : worker thread finished; awaiting finish of 1 more threads\n",
      "2021-04-25 21:55:49,760 : INFO : worker thread finished; awaiting finish of 0 more threads\n",
      "2021-04-25 21:55:49,760 : INFO : EPOCH - 32 : training on 39979 raw words (31436 effective words) took 0.3s, 106489 effective words/s\n",
      "2021-04-25 21:55:50,050 : INFO : worker thread finished; awaiting finish of 2 more threads\n",
      "2021-04-25 21:55:50,053 : INFO : worker thread finished; awaiting finish of 1 more threads\n",
      "2021-04-25 21:55:50,137 : INFO : worker thread finished; awaiting finish of 0 more threads\n",
      "2021-04-25 21:55:50,140 : INFO : EPOCH - 33 : training on 39979 raw words (31408 effective words) took 0.4s, 84251 effective words/s\n",
      "2021-04-25 21:55:50,399 : INFO : worker thread finished; awaiting finish of 2 more threads\n",
      "2021-04-25 21:55:50,404 : INFO : worker thread finished; awaiting finish of 1 more threads\n",
      "2021-04-25 21:55:50,446 : INFO : worker thread finished; awaiting finish of 0 more threads\n",
      "2021-04-25 21:55:50,447 : INFO : EPOCH - 34 : training on 39979 raw words (31358 effective words) took 0.3s, 107025 effective words/s\n",
      "2021-04-25 21:55:50,671 : INFO : worker thread finished; awaiting finish of 2 more threads\n",
      "2021-04-25 21:55:50,678 : INFO : worker thread finished; awaiting finish of 1 more threads\n",
      "2021-04-25 21:55:50,717 : INFO : worker thread finished; awaiting finish of 0 more threads\n",
      "2021-04-25 21:55:50,717 : INFO : EPOCH - 35 : training on 39979 raw words (31465 effective words) took 0.3s, 119378 effective words/s\n",
      "2021-04-25 21:55:50,919 : INFO : worker thread finished; awaiting finish of 2 more threads\n",
      "2021-04-25 21:55:50,930 : INFO : worker thread finished; awaiting finish of 1 more threads\n",
      "2021-04-25 21:55:50,970 : INFO : worker thread finished; awaiting finish of 0 more threads\n",
      "2021-04-25 21:55:50,971 : INFO : EPOCH - 36 : training on 39979 raw words (31470 effective words) took 0.2s, 127211 effective words/s\n",
      "2021-04-25 21:55:51,199 : INFO : worker thread finished; awaiting finish of 2 more threads\n",
      "2021-04-25 21:55:51,209 : INFO : worker thread finished; awaiting finish of 1 more threads\n",
      "2021-04-25 21:55:51,248 : INFO : worker thread finished; awaiting finish of 0 more threads\n",
      "2021-04-25 21:55:51,248 : INFO : EPOCH - 37 : training on 39979 raw words (31448 effective words) took 0.3s, 116704 effective words/s\n",
      "2021-04-25 21:55:51,476 : INFO : worker thread finished; awaiting finish of 2 more threads\n",
      "2021-04-25 21:55:51,481 : INFO : worker thread finished; awaiting finish of 1 more threads\n",
      "2021-04-25 21:55:51,523 : INFO : worker thread finished; awaiting finish of 0 more threads\n",
      "2021-04-25 21:55:51,524 : INFO : EPOCH - 38 : training on 39979 raw words (31375 effective words) took 0.3s, 116660 effective words/s\n",
      "2021-04-25 21:55:51,766 : INFO : worker thread finished; awaiting finish of 2 more threads\n",
      "2021-04-25 21:55:51,770 : INFO : worker thread finished; awaiting finish of 1 more threads\n",
      "2021-04-25 21:55:51,837 : INFO : worker thread finished; awaiting finish of 0 more threads\n",
      "2021-04-25 21:55:51,839 : INFO : EPOCH - 39 : training on 39979 raw words (31329 effective words) took 0.3s, 101862 effective words/s\n",
      "2021-04-25 21:55:52,228 : INFO : worker thread finished; awaiting finish of 2 more threads\n",
      "2021-04-25 21:55:52,235 : INFO : worker thread finished; awaiting finish of 1 more threads\n"
     ]
    },
    {
     "name": "stderr",
     "output_type": "stream",
     "text": [
      "2021-04-25 21:55:52,283 : INFO : worker thread finished; awaiting finish of 0 more threads\n",
      "2021-04-25 21:55:52,284 : INFO : EPOCH - 40 : training on 39979 raw words (31393 effective words) took 0.4s, 71835 effective words/s\n",
      "2021-04-25 21:55:52,533 : INFO : worker thread finished; awaiting finish of 2 more threads\n",
      "2021-04-25 21:55:52,541 : INFO : worker thread finished; awaiting finish of 1 more threads\n",
      "2021-04-25 21:55:52,577 : INFO : worker thread finished; awaiting finish of 0 more threads\n",
      "2021-04-25 21:55:52,577 : INFO : EPOCH - 41 : training on 39979 raw words (31385 effective words) took 0.3s, 109812 effective words/s\n",
      "2021-04-25 21:55:52,789 : INFO : worker thread finished; awaiting finish of 2 more threads\n",
      "2021-04-25 21:55:52,801 : INFO : worker thread finished; awaiting finish of 1 more threads\n",
      "2021-04-25 21:55:52,838 : INFO : worker thread finished; awaiting finish of 0 more threads\n",
      "2021-04-25 21:55:52,838 : INFO : EPOCH - 42 : training on 39979 raw words (31324 effective words) took 0.3s, 123344 effective words/s\n",
      "2021-04-25 21:55:53,069 : INFO : worker thread finished; awaiting finish of 2 more threads\n",
      "2021-04-25 21:55:53,074 : INFO : worker thread finished; awaiting finish of 1 more threads\n",
      "2021-04-25 21:55:53,109 : INFO : worker thread finished; awaiting finish of 0 more threads\n",
      "2021-04-25 21:55:53,110 : INFO : EPOCH - 43 : training on 39979 raw words (31483 effective words) took 0.3s, 118832 effective words/s\n",
      "2021-04-25 21:55:53,322 : INFO : worker thread finished; awaiting finish of 2 more threads\n",
      "2021-04-25 21:55:53,326 : INFO : worker thread finished; awaiting finish of 1 more threads\n",
      "2021-04-25 21:55:53,364 : INFO : worker thread finished; awaiting finish of 0 more threads\n",
      "2021-04-25 21:55:53,365 : INFO : EPOCH - 44 : training on 39979 raw words (31496 effective words) took 0.2s, 126728 effective words/s\n",
      "2021-04-25 21:55:53,576 : INFO : worker thread finished; awaiting finish of 2 more threads\n",
      "2021-04-25 21:55:53,578 : INFO : worker thread finished; awaiting finish of 1 more threads\n",
      "2021-04-25 21:55:53,616 : INFO : worker thread finished; awaiting finish of 0 more threads\n",
      "2021-04-25 21:55:53,616 : INFO : EPOCH - 45 : training on 39979 raw words (31353 effective words) took 0.2s, 127944 effective words/s\n",
      "2021-04-25 21:55:53,836 : INFO : worker thread finished; awaiting finish of 2 more threads\n",
      "2021-04-25 21:55:53,842 : INFO : worker thread finished; awaiting finish of 1 more threads\n",
      "2021-04-25 21:55:53,885 : INFO : worker thread finished; awaiting finish of 0 more threads\n",
      "2021-04-25 21:55:53,885 : INFO : EPOCH - 46 : training on 39979 raw words (31389 effective words) took 0.3s, 119241 effective words/s\n",
      "2021-04-25 21:55:54,102 : INFO : worker thread finished; awaiting finish of 2 more threads\n",
      "2021-04-25 21:55:54,107 : INFO : worker thread finished; awaiting finish of 1 more threads\n",
      "2021-04-25 21:55:54,145 : INFO : worker thread finished; awaiting finish of 0 more threads\n",
      "2021-04-25 21:55:54,145 : INFO : EPOCH - 47 : training on 39979 raw words (31417 effective words) took 0.3s, 123661 effective words/s\n",
      "2021-04-25 21:55:54,357 : INFO : worker thread finished; awaiting finish of 2 more threads\n",
      "2021-04-25 21:55:54,368 : INFO : worker thread finished; awaiting finish of 1 more threads\n",
      "2021-04-25 21:55:54,406 : INFO : worker thread finished; awaiting finish of 0 more threads\n",
      "2021-04-25 21:55:54,407 : INFO : EPOCH - 48 : training on 39979 raw words (31395 effective words) took 0.3s, 122974 effective words/s\n",
      "2021-04-25 21:55:54,677 : INFO : worker thread finished; awaiting finish of 2 more threads\n",
      "2021-04-25 21:55:54,681 : INFO : worker thread finished; awaiting finish of 1 more threads\n",
      "2021-04-25 21:55:54,781 : INFO : worker thread finished; awaiting finish of 0 more threads\n",
      "2021-04-25 21:55:54,783 : INFO : EPOCH - 49 : training on 39979 raw words (31410 effective words) took 0.4s, 84988 effective words/s\n",
      "2021-04-25 21:55:55,004 : INFO : worker thread finished; awaiting finish of 2 more threads\n",
      "2021-04-25 21:55:55,020 : INFO : worker thread finished; awaiting finish of 1 more threads\n",
      "2021-04-25 21:55:55,066 : INFO : worker thread finished; awaiting finish of 0 more threads\n",
      "2021-04-25 21:55:55,067 : INFO : EPOCH - 50 : training on 39979 raw words (31294 effective words) took 0.3s, 115091 effective words/s\n",
      "2021-04-25 21:55:55,291 : INFO : worker thread finished; awaiting finish of 2 more threads\n",
      "2021-04-25 21:55:55,292 : INFO : worker thread finished; awaiting finish of 1 more threads\n",
      "2021-04-25 21:55:55,329 : INFO : worker thread finished; awaiting finish of 0 more threads\n",
      "2021-04-25 21:55:55,330 : INFO : EPOCH - 51 : training on 39979 raw words (31456 effective words) took 0.3s, 122751 effective words/s\n",
      "2021-04-25 21:55:55,567 : INFO : worker thread finished; awaiting finish of 2 more threads\n",
      "2021-04-25 21:55:55,569 : INFO : worker thread finished; awaiting finish of 1 more threads\n",
      "2021-04-25 21:55:55,605 : INFO : worker thread finished; awaiting finish of 0 more threads\n",
      "2021-04-25 21:55:55,606 : INFO : EPOCH - 52 : training on 39979 raw words (31423 effective words) took 0.3s, 116721 effective words/s\n",
      "2021-04-25 21:55:55,826 : INFO : worker thread finished; awaiting finish of 2 more threads\n",
      "2021-04-25 21:55:55,835 : INFO : worker thread finished; awaiting finish of 1 more threads\n",
      "2021-04-25 21:55:55,875 : INFO : worker thread finished; awaiting finish of 0 more threads\n",
      "2021-04-25 21:55:55,876 : INFO : EPOCH - 53 : training on 39979 raw words (31425 effective words) took 0.3s, 119262 effective words/s\n",
      "2021-04-25 21:55:56,088 : INFO : worker thread finished; awaiting finish of 2 more threads\n",
      "2021-04-25 21:55:56,093 : INFO : worker thread finished; awaiting finish of 1 more threads\n",
      "2021-04-25 21:55:56,130 : INFO : worker thread finished; awaiting finish of 0 more threads\n",
      "2021-04-25 21:55:56,131 : INFO : EPOCH - 54 : training on 39979 raw words (31441 effective words) took 0.2s, 126581 effective words/s\n",
      "2021-04-25 21:55:56,392 : INFO : worker thread finished; awaiting finish of 2 more threads\n",
      "2021-04-25 21:55:56,399 : INFO : worker thread finished; awaiting finish of 1 more threads\n",
      "2021-04-25 21:55:56,446 : INFO : worker thread finished; awaiting finish of 0 more threads\n",
      "2021-04-25 21:55:56,447 : INFO : EPOCH - 55 : training on 39979 raw words (31440 effective words) took 0.3s, 101613 effective words/s\n",
      "2021-04-25 21:55:56,657 : INFO : worker thread finished; awaiting finish of 2 more threads\n",
      "2021-04-25 21:55:56,664 : INFO : worker thread finished; awaiting finish of 1 more threads\n",
      "2021-04-25 21:55:56,703 : INFO : worker thread finished; awaiting finish of 0 more threads\n",
      "2021-04-25 21:55:56,703 : INFO : EPOCH - 56 : training on 39979 raw words (31483 effective words) took 0.2s, 126114 effective words/s\n",
      "2021-04-25 21:55:56,915 : INFO : worker thread finished; awaiting finish of 2 more threads\n",
      "2021-04-25 21:55:56,920 : INFO : worker thread finished; awaiting finish of 1 more threads\n",
      "2021-04-25 21:55:56,955 : INFO : worker thread finished; awaiting finish of 0 more threads\n",
      "2021-04-25 21:55:56,956 : INFO : EPOCH - 57 : training on 39979 raw words (31409 effective words) took 0.2s, 127422 effective words/s\n",
      "2021-04-25 21:55:57,179 : INFO : worker thread finished; awaiting finish of 2 more threads\n",
      "2021-04-25 21:55:57,182 : INFO : worker thread finished; awaiting finish of 1 more threads\n",
      "2021-04-25 21:55:57,226 : INFO : worker thread finished; awaiting finish of 0 more threads\n",
      "2021-04-25 21:55:57,227 : INFO : EPOCH - 58 : training on 39979 raw words (31433 effective words) took 0.3s, 118781 effective words/s\n",
      "2021-04-25 21:55:57,442 : INFO : worker thread finished; awaiting finish of 2 more threads\n",
      "2021-04-25 21:55:57,449 : INFO : worker thread finished; awaiting finish of 1 more threads\n",
      "2021-04-25 21:55:57,486 : INFO : worker thread finished; awaiting finish of 0 more threads\n",
      "2021-04-25 21:55:57,487 : INFO : EPOCH - 59 : training on 39979 raw words (31509 effective words) took 0.3s, 124527 effective words/s\n",
      "2021-04-25 21:55:57,697 : INFO : worker thread finished; awaiting finish of 2 more threads\n",
      "2021-04-25 21:55:57,700 : INFO : worker thread finished; awaiting finish of 1 more threads\n",
      "2021-04-25 21:55:57,737 : INFO : worker thread finished; awaiting finish of 0 more threads\n"
     ]
    },
    {
     "name": "stderr",
     "output_type": "stream",
     "text": [
      "2021-04-25 21:55:57,738 : INFO : EPOCH - 60 : training on 39979 raw words (31515 effective words) took 0.2s, 129054 effective words/s\n",
      "2021-04-25 21:55:57,970 : INFO : worker thread finished; awaiting finish of 2 more threads\n",
      "2021-04-25 21:55:57,972 : INFO : worker thread finished; awaiting finish of 1 more threads\n",
      "2021-04-25 21:55:58,014 : INFO : worker thread finished; awaiting finish of 0 more threads\n",
      "2021-04-25 21:55:58,014 : INFO : EPOCH - 61 : training on 39979 raw words (31462 effective words) took 0.3s, 116778 effective words/s\n",
      "2021-04-25 21:55:58,237 : INFO : worker thread finished; awaiting finish of 2 more threads\n",
      "2021-04-25 21:55:58,243 : INFO : worker thread finished; awaiting finish of 1 more threads\n",
      "2021-04-25 21:55:58,280 : INFO : worker thread finished; awaiting finish of 0 more threads\n",
      "2021-04-25 21:55:58,281 : INFO : EPOCH - 62 : training on 39979 raw words (31337 effective words) took 0.3s, 120707 effective words/s\n",
      "2021-04-25 21:55:58,491 : INFO : worker thread finished; awaiting finish of 2 more threads\n",
      "2021-04-25 21:55:58,499 : INFO : worker thread finished; awaiting finish of 1 more threads\n",
      "2021-04-25 21:55:58,536 : INFO : worker thread finished; awaiting finish of 0 more threads\n",
      "2021-04-25 21:55:58,536 : INFO : EPOCH - 63 : training on 39979 raw words (31456 effective words) took 0.2s, 126530 effective words/s\n",
      "2021-04-25 21:55:58,754 : INFO : worker thread finished; awaiting finish of 2 more threads\n",
      "2021-04-25 21:55:58,764 : INFO : worker thread finished; awaiting finish of 1 more threads\n",
      "2021-04-25 21:55:58,803 : INFO : worker thread finished; awaiting finish of 0 more threads\n",
      "2021-04-25 21:55:58,804 : INFO : EPOCH - 64 : training on 39979 raw words (31420 effective words) took 0.3s, 120101 effective words/s\n",
      "2021-04-25 21:55:59,025 : INFO : worker thread finished; awaiting finish of 2 more threads\n",
      "2021-04-25 21:55:59,027 : INFO : worker thread finished; awaiting finish of 1 more threads\n",
      "2021-04-25 21:55:59,070 : INFO : worker thread finished; awaiting finish of 0 more threads\n",
      "2021-04-25 21:55:59,071 : INFO : EPOCH - 65 : training on 39979 raw words (31450 effective words) took 0.3s, 120697 effective words/s\n",
      "2021-04-25 21:55:59,278 : INFO : worker thread finished; awaiting finish of 2 more threads\n",
      "2021-04-25 21:55:59,284 : INFO : worker thread finished; awaiting finish of 1 more threads\n",
      "2021-04-25 21:55:59,321 : INFO : worker thread finished; awaiting finish of 0 more threads\n",
      "2021-04-25 21:55:59,322 : INFO : EPOCH - 66 : training on 39979 raw words (31316 effective words) took 0.2s, 128117 effective words/s\n",
      "2021-04-25 21:55:59,541 : INFO : worker thread finished; awaiting finish of 2 more threads\n",
      "2021-04-25 21:55:59,553 : INFO : worker thread finished; awaiting finish of 1 more threads\n",
      "2021-04-25 21:55:59,590 : INFO : worker thread finished; awaiting finish of 0 more threads\n",
      "2021-04-25 21:55:59,591 : INFO : EPOCH - 67 : training on 39979 raw words (31400 effective words) took 0.3s, 119724 effective words/s\n",
      "2021-04-25 21:55:59,798 : INFO : worker thread finished; awaiting finish of 2 more threads\n",
      "2021-04-25 21:55:59,814 : INFO : worker thread finished; awaiting finish of 1 more threads\n",
      "2021-04-25 21:55:59,865 : INFO : worker thread finished; awaiting finish of 0 more threads\n",
      "2021-04-25 21:55:59,865 : INFO : EPOCH - 68 : training on 39979 raw words (31365 effective words) took 0.3s, 116867 effective words/s\n",
      "2021-04-25 21:56:00,092 : INFO : worker thread finished; awaiting finish of 2 more threads\n",
      "2021-04-25 21:56:00,097 : INFO : worker thread finished; awaiting finish of 1 more threads\n",
      "2021-04-25 21:56:00,135 : INFO : worker thread finished; awaiting finish of 0 more threads\n",
      "2021-04-25 21:56:00,136 : INFO : EPOCH - 69 : training on 39979 raw words (31466 effective words) took 0.3s, 119241 effective words/s\n",
      "2021-04-25 21:56:00,342 : INFO : worker thread finished; awaiting finish of 2 more threads\n",
      "2021-04-25 21:56:00,353 : INFO : worker thread finished; awaiting finish of 1 more threads\n",
      "2021-04-25 21:56:00,388 : INFO : worker thread finished; awaiting finish of 0 more threads\n",
      "2021-04-25 21:56:00,388 : INFO : EPOCH - 70 : training on 39979 raw words (31382 effective words) took 0.2s, 127552 effective words/s\n",
      "2021-04-25 21:56:00,591 : INFO : worker thread finished; awaiting finish of 2 more threads\n",
      "2021-04-25 21:56:00,605 : INFO : worker thread finished; awaiting finish of 1 more threads\n",
      "2021-04-25 21:56:00,651 : INFO : worker thread finished; awaiting finish of 0 more threads\n",
      "2021-04-25 21:56:00,651 : INFO : EPOCH - 71 : training on 39979 raw words (31511 effective words) took 0.3s, 122511 effective words/s\n",
      "2021-04-25 21:56:00,852 : INFO : worker thread finished; awaiting finish of 2 more threads\n",
      "2021-04-25 21:56:00,857 : INFO : worker thread finished; awaiting finish of 1 more threads\n",
      "2021-04-25 21:56:00,893 : INFO : worker thread finished; awaiting finish of 0 more threads\n",
      "2021-04-25 21:56:00,894 : INFO : EPOCH - 72 : training on 39979 raw words (31466 effective words) took 0.2s, 132782 effective words/s\n",
      "2021-04-25 21:56:01,118 : INFO : worker thread finished; awaiting finish of 2 more threads\n",
      "2021-04-25 21:56:01,122 : INFO : worker thread finished; awaiting finish of 1 more threads\n",
      "2021-04-25 21:56:01,163 : INFO : worker thread finished; awaiting finish of 0 more threads\n",
      "2021-04-25 21:56:01,164 : INFO : EPOCH - 73 : training on 39979 raw words (31378 effective words) took 0.3s, 119239 effective words/s\n",
      "2021-04-25 21:56:01,381 : INFO : worker thread finished; awaiting finish of 2 more threads\n",
      "2021-04-25 21:56:01,384 : INFO : worker thread finished; awaiting finish of 1 more threads\n",
      "2021-04-25 21:56:01,421 : INFO : worker thread finished; awaiting finish of 0 more threads\n",
      "2021-04-25 21:56:01,421 : INFO : EPOCH - 74 : training on 39979 raw words (31433 effective words) took 0.3s, 125156 effective words/s\n",
      "2021-04-25 21:56:01,622 : INFO : worker thread finished; awaiting finish of 2 more threads\n",
      "2021-04-25 21:56:01,632 : INFO : worker thread finished; awaiting finish of 1 more threads\n",
      "2021-04-25 21:56:01,666 : INFO : worker thread finished; awaiting finish of 0 more threads\n",
      "2021-04-25 21:56:01,667 : INFO : EPOCH - 75 : training on 39979 raw words (31460 effective words) took 0.2s, 131453 effective words/s\n",
      "2021-04-25 21:56:01,870 : INFO : worker thread finished; awaiting finish of 2 more threads\n",
      "2021-04-25 21:56:01,884 : INFO : worker thread finished; awaiting finish of 1 more threads\n",
      "2021-04-25 21:56:01,918 : INFO : worker thread finished; awaiting finish of 0 more threads\n",
      "2021-04-25 21:56:01,918 : INFO : EPOCH - 76 : training on 39979 raw words (31416 effective words) took 0.2s, 127937 effective words/s\n",
      "2021-04-25 21:56:02,138 : INFO : worker thread finished; awaiting finish of 2 more threads\n",
      "2021-04-25 21:56:02,144 : INFO : worker thread finished; awaiting finish of 1 more threads\n",
      "2021-04-25 21:56:02,183 : INFO : worker thread finished; awaiting finish of 0 more threads\n",
      "2021-04-25 21:56:02,183 : INFO : EPOCH - 77 : training on 39979 raw words (31447 effective words) took 0.3s, 121440 effective words/s\n",
      "2021-04-25 21:56:02,393 : INFO : worker thread finished; awaiting finish of 2 more threads\n",
      "2021-04-25 21:56:02,402 : INFO : worker thread finished; awaiting finish of 1 more threads\n",
      "2021-04-25 21:56:02,441 : INFO : worker thread finished; awaiting finish of 0 more threads\n",
      "2021-04-25 21:56:02,442 : INFO : EPOCH - 78 : training on 39979 raw words (31363 effective words) took 0.3s, 124140 effective words/s\n",
      "2021-04-25 21:56:02,660 : INFO : worker thread finished; awaiting finish of 2 more threads\n",
      "2021-04-25 21:56:02,664 : INFO : worker thread finished; awaiting finish of 1 more threads\n",
      "2021-04-25 21:56:02,701 : INFO : worker thread finished; awaiting finish of 0 more threads\n",
      "2021-04-25 21:56:02,702 : INFO : EPOCH - 79 : training on 39979 raw words (31470 effective words) took 0.3s, 123940 effective words/s\n",
      "2021-04-25 21:56:02,911 : INFO : worker thread finished; awaiting finish of 2 more threads\n",
      "2021-04-25 21:56:02,914 : INFO : worker thread finished; awaiting finish of 1 more threads\n",
      "2021-04-25 21:56:02,953 : INFO : worker thread finished; awaiting finish of 0 more threads\n",
      "2021-04-25 21:56:02,953 : INFO : EPOCH - 80 : training on 39979 raw words (31449 effective words) took 0.2s, 128484 effective words/s\n"
     ]
    },
    {
     "name": "stderr",
     "output_type": "stream",
     "text": [
      "2021-04-25 21:56:03,156 : INFO : worker thread finished; awaiting finish of 2 more threads\n",
      "2021-04-25 21:56:03,164 : INFO : worker thread finished; awaiting finish of 1 more threads\n",
      "2021-04-25 21:56:03,202 : INFO : worker thread finished; awaiting finish of 0 more threads\n",
      "2021-04-25 21:56:03,202 : INFO : EPOCH - 81 : training on 39979 raw words (31339 effective words) took 0.2s, 128857 effective words/s\n",
      "2021-04-25 21:56:03,418 : INFO : worker thread finished; awaiting finish of 2 more threads\n",
      "2021-04-25 21:56:03,423 : INFO : worker thread finished; awaiting finish of 1 more threads\n",
      "2021-04-25 21:56:03,458 : INFO : worker thread finished; awaiting finish of 0 more threads\n",
      "2021-04-25 21:56:03,459 : INFO : EPOCH - 82 : training on 39979 raw words (31438 effective words) took 0.3s, 125617 effective words/s\n",
      "2021-04-25 21:56:03,661 : INFO : worker thread finished; awaiting finish of 2 more threads\n",
      "2021-04-25 21:56:03,670 : INFO : worker thread finished; awaiting finish of 1 more threads\n",
      "2021-04-25 21:56:03,704 : INFO : worker thread finished; awaiting finish of 0 more threads\n",
      "2021-04-25 21:56:03,705 : INFO : EPOCH - 83 : training on 39979 raw words (31488 effective words) took 0.2s, 131353 effective words/s\n",
      "2021-04-25 21:56:03,901 : INFO : worker thread finished; awaiting finish of 2 more threads\n",
      "2021-04-25 21:56:03,909 : INFO : worker thread finished; awaiting finish of 1 more threads\n",
      "2021-04-25 21:56:03,956 : INFO : worker thread finished; awaiting finish of 0 more threads\n",
      "2021-04-25 21:56:03,957 : INFO : EPOCH - 84 : training on 39979 raw words (31528 effective words) took 0.2s, 127688 effective words/s\n",
      "2021-04-25 21:56:04,189 : INFO : worker thread finished; awaiting finish of 2 more threads\n",
      "2021-04-25 21:56:04,198 : INFO : worker thread finished; awaiting finish of 1 more threads\n",
      "2021-04-25 21:56:04,233 : INFO : worker thread finished; awaiting finish of 0 more threads\n",
      "2021-04-25 21:56:04,233 : INFO : EPOCH - 85 : training on 39979 raw words (31460 effective words) took 0.3s, 116331 effective words/s\n",
      "2021-04-25 21:56:04,449 : INFO : worker thread finished; awaiting finish of 2 more threads\n",
      "2021-04-25 21:56:04,454 : INFO : worker thread finished; awaiting finish of 1 more threads\n",
      "2021-04-25 21:56:04,499 : INFO : worker thread finished; awaiting finish of 0 more threads\n",
      "2021-04-25 21:56:04,500 : INFO : EPOCH - 86 : training on 39979 raw words (31394 effective words) took 0.3s, 120327 effective words/s\n",
      "2021-04-25 21:56:04,703 : INFO : worker thread finished; awaiting finish of 2 more threads\n",
      "2021-04-25 21:56:04,712 : INFO : worker thread finished; awaiting finish of 1 more threads\n",
      "2021-04-25 21:56:04,746 : INFO : worker thread finished; awaiting finish of 0 more threads\n",
      "2021-04-25 21:56:04,747 : INFO : EPOCH - 87 : training on 39979 raw words (31534 effective words) took 0.2s, 130919 effective words/s\n",
      "2021-04-25 21:56:04,957 : INFO : worker thread finished; awaiting finish of 2 more threads\n",
      "2021-04-25 21:56:04,972 : INFO : worker thread finished; awaiting finish of 1 more threads\n",
      "2021-04-25 21:56:05,014 : INFO : worker thread finished; awaiting finish of 0 more threads\n",
      "2021-04-25 21:56:05,015 : INFO : EPOCH - 88 : training on 39979 raw words (31440 effective words) took 0.3s, 120296 effective words/s\n",
      "2021-04-25 21:56:05,227 : INFO : worker thread finished; awaiting finish of 2 more threads\n",
      "2021-04-25 21:56:05,229 : INFO : worker thread finished; awaiting finish of 1 more threads\n",
      "2021-04-25 21:56:05,267 : INFO : worker thread finished; awaiting finish of 0 more threads\n",
      "2021-04-25 21:56:05,268 : INFO : EPOCH - 89 : training on 39979 raw words (31437 effective words) took 0.2s, 127585 effective words/s\n",
      "2021-04-25 21:56:05,506 : INFO : worker thread finished; awaiting finish of 2 more threads\n",
      "2021-04-25 21:56:05,510 : INFO : worker thread finished; awaiting finish of 1 more threads\n",
      "2021-04-25 21:56:05,566 : INFO : worker thread finished; awaiting finish of 0 more threads\n",
      "2021-04-25 21:56:05,567 : INFO : EPOCH - 90 : training on 39979 raw words (31405 effective words) took 0.3s, 107450 effective words/s\n",
      "2021-04-25 21:56:05,784 : INFO : worker thread finished; awaiting finish of 2 more threads\n",
      "2021-04-25 21:56:05,788 : INFO : worker thread finished; awaiting finish of 1 more threads\n",
      "2021-04-25 21:56:05,827 : INFO : worker thread finished; awaiting finish of 0 more threads\n",
      "2021-04-25 21:56:05,828 : INFO : EPOCH - 91 : training on 39979 raw words (31414 effective words) took 0.3s, 124090 effective words/s\n",
      "2021-04-25 21:56:06,037 : INFO : worker thread finished; awaiting finish of 2 more threads\n",
      "2021-04-25 21:56:06,041 : INFO : worker thread finished; awaiting finish of 1 more threads\n",
      "2021-04-25 21:56:06,079 : INFO : worker thread finished; awaiting finish of 0 more threads\n",
      "2021-04-25 21:56:06,079 : INFO : EPOCH - 92 : training on 39979 raw words (31507 effective words) took 0.2s, 128526 effective words/s\n",
      "2021-04-25 21:56:06,283 : INFO : worker thread finished; awaiting finish of 2 more threads\n",
      "2021-04-25 21:56:06,285 : INFO : worker thread finished; awaiting finish of 1 more threads\n",
      "2021-04-25 21:56:06,324 : INFO : worker thread finished; awaiting finish of 0 more threads\n",
      "2021-04-25 21:56:06,324 : INFO : EPOCH - 93 : training on 39979 raw words (31518 effective words) took 0.2s, 132328 effective words/s\n",
      "2021-04-25 21:56:06,562 : INFO : worker thread finished; awaiting finish of 2 more threads\n",
      "2021-04-25 21:56:06,568 : INFO : worker thread finished; awaiting finish of 1 more threads\n",
      "2021-04-25 21:56:06,608 : INFO : worker thread finished; awaiting finish of 0 more threads\n",
      "2021-04-25 21:56:06,609 : INFO : EPOCH - 94 : training on 39979 raw words (31496 effective words) took 0.3s, 113207 effective words/s\n",
      "2021-04-25 21:56:06,827 : INFO : worker thread finished; awaiting finish of 2 more threads\n",
      "2021-04-25 21:56:06,844 : INFO : worker thread finished; awaiting finish of 1 more threads\n",
      "2021-04-25 21:56:06,882 : INFO : worker thread finished; awaiting finish of 0 more threads\n",
      "2021-04-25 21:56:06,883 : INFO : EPOCH - 95 : training on 39979 raw words (31485 effective words) took 0.3s, 117257 effective words/s\n",
      "2021-04-25 21:56:07,090 : INFO : worker thread finished; awaiting finish of 2 more threads\n",
      "2021-04-25 21:56:07,098 : INFO : worker thread finished; awaiting finish of 1 more threads\n",
      "2021-04-25 21:56:07,132 : INFO : worker thread finished; awaiting finish of 0 more threads\n",
      "2021-04-25 21:56:07,132 : INFO : EPOCH - 96 : training on 39979 raw words (31485 effective words) took 0.2s, 129542 effective words/s\n",
      "2021-04-25 21:56:07,340 : INFO : worker thread finished; awaiting finish of 2 more threads\n",
      "2021-04-25 21:56:07,350 : INFO : worker thread finished; awaiting finish of 1 more threads\n",
      "2021-04-25 21:56:07,387 : INFO : worker thread finished; awaiting finish of 0 more threads\n",
      "2021-04-25 21:56:07,387 : INFO : EPOCH - 97 : training on 39979 raw words (31411 effective words) took 0.2s, 126138 effective words/s\n",
      "2021-04-25 21:56:07,601 : INFO : worker thread finished; awaiting finish of 2 more threads\n",
      "2021-04-25 21:56:07,612 : INFO : worker thread finished; awaiting finish of 1 more threads\n",
      "2021-04-25 21:56:07,648 : INFO : worker thread finished; awaiting finish of 0 more threads\n",
      "2021-04-25 21:56:07,650 : INFO : EPOCH - 98 : training on 39979 raw words (31374 effective words) took 0.3s, 122630 effective words/s\n",
      "2021-04-25 21:56:07,865 : INFO : worker thread finished; awaiting finish of 2 more threads\n",
      "2021-04-25 21:56:07,869 : INFO : worker thread finished; awaiting finish of 1 more threads\n",
      "2021-04-25 21:56:07,906 : INFO : worker thread finished; awaiting finish of 0 more threads\n",
      "2021-04-25 21:56:07,906 : INFO : EPOCH - 99 : training on 39979 raw words (31396 effective words) took 0.2s, 126825 effective words/s\n",
      "2021-04-25 21:56:08,115 : INFO : worker thread finished; awaiting finish of 2 more threads\n",
      "2021-04-25 21:56:08,118 : INFO : worker thread finished; awaiting finish of 1 more threads\n",
      "2021-04-25 21:56:08,159 : INFO : worker thread finished; awaiting finish of 0 more threads\n",
      "2021-04-25 21:56:08,160 : INFO : EPOCH - 100 : training on 39979 raw words (31379 effective words) took 0.2s, 127023 effective words/s\n",
      "2021-04-25 21:56:08,161 : INFO : Doc2Vec lifecycle event {'msg': 'training on 3997900 raw words (3142852 effective words) took 27.9s, 112618 effective words/s', 'datetime': '2021-04-25T21:56:08.161392', 'gensim': '4.0.1', 'python': '3.8.5 (default, Sep  3 2020, 21:29:08) [MSC v.1916 64 bit (AMD64)]', 'platform': 'Windows-10-10.0.19041-SP0', 'event': 'train'}\n"
     ]
    }
   ],
   "source": [
    "model_resumo.train(vocabulary_resumo, total_examples=model_resumo.corpus_count, epochs=model_resumo.epochs)\n",
    "\n",
    "model_titulo.train(vocabulary_titulo, total_examples=model_titulo.corpus_count, epochs=model_titulo.epochs)\n"
   ]
  },
  {
   "cell_type": "markdown",
   "metadata": {
    "id": "9OebvwwTKiN6"
   },
   "source": [
    "# Model Test\n",
    "\n",
    "1. Select a patent sample\n",
    "2. Infer Resumo\n",
    "3. Infer Titulo"
   ]
  },
  {
   "cell_type": "code",
   "execution_count": 14,
   "metadata": {
    "colab": {
     "base_uri": "https://localhost:8080/"
    },
    "id": "PfofGpbQKhqA",
    "outputId": "429b78c5-b19e-4ace-e9ac-7f60cb487ca2"
   },
   "outputs": [
    {
     "name": "stdout",
     "output_type": "stream",
     "text": [
      "ID: 570e1774eb1ec9929bae17c8\n",
      "Titulo: Storage management system and auto-RAID transaction manager for coherent       memory map across hot plug interface\n",
      "FSC: {'FSC': ['711', '714', '710']}\n"
     ]
    }
   ],
   "source": [
    "# Pick a random document from the test corpus and infer a vector from the model\n",
    "train_data_sample = train_data.sample()\n",
    "print(\"ID: \"+ train_data_sample.iloc[0]['ID'])\n",
    "print(\"Titulo: \"+ train_data_sample.iloc[0]['Titulo'])\n",
    "#print(\"Resumo: \"+ sample.iloc[0]['Resumo'])\n",
    "value = str(train_data_sample.iloc[0]['ID'])\n",
    "fscList = get_FSC_classes_row(train_data_sample.iloc[0]['ID'])\n",
    "print(\"FSC: \"+ str(fscList))"
   ]
  },
  {
   "cell_type": "code",
   "execution_count": 15,
   "metadata": {},
   "outputs": [
    {
     "name": "stdout",
     "output_type": "stream",
     "text": [
      "ID: 57065f85eb1ec950df0332b4\n",
      "Titulo: Method for lining a tubular conduit\n",
      "FSC: ['156', '264', '138', '405']\n"
     ]
    }
   ],
   "source": [
    "# Pick a random document from the test corpus and infer a vector from the model\n",
    "test_data_sample = test_data.sample()\n",
    "print(\"ID: \"+ test_data_sample.iloc[0]['ID'])\n",
    "print(\"Titulo: \"+ test_data_sample.iloc[0]['Titulo'])\n",
    "#print(\"Resumo: \"+ sample.iloc[0]['Resumo'])\n",
    "value = str(test_data_sample.iloc[0]['ID'])\n",
    "fscList = train_classes_data.iloc[test_data_sample.index]['classes'].iloc[0]['FSC']\n",
    "print(\"FSC: \"+ str(fscList))"
   ]
  },
  {
   "cell_type": "code",
   "execution_count": 16,
   "metadata": {},
   "outputs": [
    {
     "name": "stdout",
     "output_type": "stream",
     "text": [
      "Similarity: 0.47785302996635437\n",
      "ID: 570e1773eb1ec9929bad212a\n",
      "Titulo: Memory incoherent verification methodology\n",
      "Resumo: A system and method for memory incoherent verification of functionality of an HDL (Hardware Description Language) design of a computer system component is disclosed. A simulated model of the HDL design receives a memory read stimulus from a stimulus file through a simulated first bus. The simulated model of the HDL design is configured to send its response to the stimulus onto a simulated second bus. A transaction checker receives the response from the simulated second bus and analyzes it to verify operation of the HDL design of the computer system component. The stimulus file and the transaction checker are both stored in the computer system memory. The simulated model's response to the memory read stimulus is evaluated by the transaction checker independently of any previous memory write stimulus from the stimulus file. There is no need to have a previous memory write operation or a master initialization of the system memory for every memory read operation. This enhances the sequences of operations that may be applied to a device under test. Multiple simulated models may read or write into the memory without timing constraints.\n",
      "FSC: ['703', '710', '711', '714', '716']\n"
     ]
    }
   ],
   "source": [
    "infer_similar(model_resumo,train_data_sample,'Resumo',2)"
   ]
  },
  {
   "cell_type": "code",
   "execution_count": 17,
   "metadata": {},
   "outputs": [
    {
     "name": "stdout",
     "output_type": "stream",
     "text": [
      "Similarity: 0.4733535349369049\n",
      "ID: 570e1777eb1ec9929baec194\n",
      "Titulo: Technology regression and verification acceptance method\n",
      "Resumo: A method for regression and verification of hardware, network, and/or software technology platforms to deliver acceptance status details. This method variously prepares instructions and components to support unique business customer environments and manages the regression verification of these environments. Errors, deviations, and recommendations for improvement, with full regression capabilities, are reported to the business user customer in a non-technical business format they can select and customize to receive acceptance status management reporting information.\n",
      "FSC: 714\n"
     ]
    }
   ],
   "source": [
    "infer_similar(model_resumo,train_data_sample,'Titulo',2)"
   ]
  },
  {
   "cell_type": "code",
   "execution_count": 32,
   "metadata": {
    "colab": {
     "base_uri": "https://localhost:8080/"
    },
    "id": "S3W7otyDdI_6",
    "outputId": "4114da9d-2282-4933-f7fb-3dd27f0ab302"
   },
   "outputs": [],
   "source": [
    "# top most similiar to recommend\n",
    "TOP_K = 5\n",
    "\n",
    "# dataframe for precision\n",
    "#data_precision = [\"ID_Test\", \"RecommendationPrecision\"]\n",
    "#df_precision = pd.DataFrame([],columns=data_precision)\n",
    "\n",
    "\n",
    "\n",
    "overlap_fsc_data, precision_data = evaluate_classes(False, TOP_K, 50000,'Resumo',model_resumo)"
   ]
  },
  {
   "cell_type": "code",
   "execution_count": 34,
   "metadata": {
    "colab": {
     "base_uri": "https://localhost:8080/",
     "height": 265
    },
    "id": "X6QoOnn-YxK0",
    "outputId": "80975efc-fde3-412f-ee61-248db99029d5",
    "scrolled": true
   },
   "outputs": [
    {
     "data": {
      "image/png": "[encoded data removed]",
      "text/plain": [
       "<Figure size 432x288 with 1 Axes>"
      ]
     },
     "metadata": {
      "needs_background": "light"
     },
     "output_type": "display_data"
    }
   ],
   "source": [
    "x = precision_data['Precision']\n",
    "plt.hist(x)\n",
    "plt.show()"
   ]
  },
  {
   "cell_type": "code",
   "execution_count": null,
   "metadata": {},
   "outputs": [],
   "source": [
    "precision_data.describe()"
   ]
  },
  {
   "cell_type": "code",
   "execution_count": 35,
   "metadata": {
    "colab": {
     "base_uri": "https://localhost:8080/",
     "height": 1000
    },
    "id": "iw6kaxJeeyKd",
    "outputId": "7d1d6e01-af12-4765-cef9-623df796bb9a"
   },
   "outputs": [
    {
     "data": {
      "image/png": "[encoded data removed]",
      "text/plain": [
       "<Figure size 432x288 with 1 Axes>"
      ]
     },
     "metadata": {
      "needs_background": "light"
     },
     "output_type": "display_data"
    },
    {
     "data": {
      "image/png": "[encoded data removed]",
      "text/plain": [
       "<Figure size 432x288 with 1 Axes>"
      ]
     },
     "metadata": {
      "needs_background": "light"
     },
     "output_type": "display_data"
    },
    {
     "data": {
      "image/png": "[encoded data removed]",
      "text/plain": [
       "<Figure size 432x288 with 1 Axes>"
      ]
     },
     "metadata": {
      "needs_background": "light"
     },
     "output_type": "display_data"
    },
    {
     "data": {
      "image/png": "[encoded data removed]",
      "text/plain": [
       "<Figure size 432x288 with 1 Axes>"
      ]
     },
     "metadata": {
      "needs_background": "light"
     },
     "output_type": "display_data"
    },
    {
     "data": {
      "image/png": "[encoded data removed]",
      "text/plain": [
       "<Figure size 432x288 with 1 Axes>"
      ]
     },
     "metadata": {
      "needs_background": "light"
     },
     "output_type": "display_data"
    }
   ],
   "source": [
    "plt.hist(overlap_fsc_data[overlap_fsc_data['SimilarityRank'] == 0]['FSC_Overlap'],bins = 'sturges')\n",
    "plt.show()\n",
    "plt.hist(overlap_fsc_data[overlap_fsc_data['SimilarityRank'] == 1]['FSC_Overlap'],bins = 'sturges')\n",
    "plt.show()\n",
    "plt.hist(overlap_fsc_data[overlap_fsc_data['SimilarityRank'] == 2]['FSC_Overlap'],bins = 'sturges')\n",
    "plt.show()\n",
    "plt.hist(overlap_fsc_data[overlap_fsc_data['SimilarityRank'] == 3]['FSC_Overlap'],bins = 'sturges')\n",
    "plt.show()\n",
    "plt.hist(overlap_fsc_data[overlap_fsc_data['SimilarityRank'] == 4]['FSC_Overlap'],bins = 'sturges')\n",
    "plt.show()\n"
   ]
  },
  {
   "cell_type": "markdown",
   "metadata": {},
   "source": [
    "## Scenario 3\n",
    "recomendações Titulo analise de resultados"
   ]
  },
  {
   "cell_type": "code",
   "execution_count": 37,
   "metadata": {},
   "outputs": [],
   "source": [
    "# top most similiar to recommend\n",
    "TOP_K = 5\n",
    "\n",
    "# dataframe for precision\n",
    "#data_precision = [\"ID_Test\", \"RecommendationPrecision\"]\n",
    "#df_precision = pd.DataFrame([],columns=data_precision)\n",
    "\n",
    "\n",
    "\n",
    "overlap_fsc_data, precision_data = evaluate_classes(False, TOP_K, 50000,'Titulo',model_titulo)\n",
    "\n"
   ]
  },
  {
   "cell_type": "code",
   "execution_count": 38,
   "metadata": {},
   "outputs": [
    {
     "data": {
      "image/png": "[encoded data removed]",
      "text/plain": [
       "<Figure size 432x288 with 1 Axes>"
      ]
     },
     "metadata": {
      "needs_background": "light"
     },
     "output_type": "display_data"
    }
   ],
   "source": [
    "x = precision_data['Precision']\n",
    "plt.hist(x)\n",
    "plt.show()\n"
   ]
  },
  {
   "cell_type": "code",
   "execution_count": null,
   "metadata": {},
   "outputs": [],
   "source": [
    "precision_data.describe()"
   ]
  },
  {
   "cell_type": "code",
   "execution_count": 39,
   "metadata": {},
   "outputs": [
    {
     "data": {
      "image/png": "[encoded data removed]",
      "text/plain": [
       "<Figure size 432x288 with 1 Axes>"
      ]
     },
     "metadata": {
      "needs_background": "light"
     },
     "output_type": "display_data"
    },
    {
     "data": {
      "image/png": "[encoded data removed]",
      "text/plain": [
       "<Figure size 432x288 with 1 Axes>"
      ]
     },
     "metadata": {
      "needs_background": "light"
     },
     "output_type": "display_data"
    },
    {
     "data": {
      "image/png": "[encoded data removed]",
      "text/plain": [
       "<Figure size 432x288 with 1 Axes>"
      ]
     },
     "metadata": {
      "needs_background": "light"
     },
     "output_type": "display_data"
    },
    {
     "data": {
      "image/png": "[encoded data removed]",
      "text/plain": [
       "<Figure size 432x288 with 1 Axes>"
      ]
     },
     "metadata": {
      "needs_background": "light"
     },
     "output_type": "display_data"
    },
    {
     "data": {
      "image/png": "[encoded data removed]",
      "text/plain": [
       "<Figure size 432x288 with 1 Axes>"
      ]
     },
     "metadata": {
      "needs_background": "light"
     },
     "output_type": "display_data"
    }
   ],
   "source": [
    "plt.hist(overlap_fsc_data[overlap_fsc_data['SimilarityRank'] == 0]['FSC_Overlap'],bins = 'sturges')\n",
    "plt.show()\n",
    "plt.hist(overlap_fsc_data[overlap_fsc_data['SimilarityRank'] == 1]['FSC_Overlap'],bins = 'sturges')\n",
    "plt.show()\n",
    "plt.hist(overlap_fsc_data[overlap_fsc_data['SimilarityRank'] == 2]['FSC_Overlap'],bins = 'sturges')\n",
    "plt.show()\n",
    "plt.hist(overlap_fsc_data[overlap_fsc_data['SimilarityRank'] == 3]['FSC_Overlap'],bins = 'sturges')\n",
    "plt.show()\n",
    "plt.hist(overlap_fsc_data[overlap_fsc_data['SimilarityRank'] == 4]['FSC_Overlap'],bins = 'sturges')\n",
    "plt.show()\n"
   ]
  },
  {
   "cell_type": "markdown",
   "metadata": {},
   "source": [
    "## Scenario 4\n",
    "Junção das recomendações Titulo e Resumo"
   ]
  },
  {
   "cell_type": "code",
   "execution_count": 106,
   "metadata": {},
   "outputs": [],
   "source": [
    "def evaluate_4(model_titulo,model_resumo,enableprint):\n",
    "    ID_Test = []\n",
    "    ID_Match = []\n",
    "    SimilarityRank = []\n",
    "    FSC_Overlap = []\n",
    "    Precision = []\n",
    "    ID_Precision_Test = []\n",
    "    data = test_data.head(1000)\n",
    "    for index,sample in data.iterrows():\n",
    "        inferred_vector = model_titulo.infer_vector(gensim.utils.simple_preprocess(sample['Titulo']))\n",
    "        sims2 = model_titulo.dv.most_similar([inferred_vector], topn=len(model_titulo.dv))\n",
    "\n",
    "        inferred_vector2= model_resumo.infer_vector(gensim.utils.simple_preprocess(sample['Resumo']))\n",
    "        sims = model_resumo.dv.most_similar([inferred_vector], topn=len(model_resumo.dv))\n",
    "        numberFromTitle=math.floor(len(sims2)*0.2)\n",
    "        numberFromAbstract=math.floor(len(sims)*0.8)\n",
    "        finalResult =[]\n",
    "        c=0\n",
    "        for x in range(0,numberFromAbstract-1):\n",
    "          finalResult.append(sims[x])\n",
    "        c=numberFromTitle-1\n",
    "        for y in range(0,numberFromTitle-1):\n",
    "          finalResult.append(sims2[y])\n",
    "        finalResult.sort(key=lambda x: x[1],reverse = True)\n",
    "        l=[]\n",
    "        for item in finalResult:\n",
    "            if item[0] in l:\n",
    "                finalResult.remove(item)\n",
    "            else:\n",
    "                l.append(item[0])\n",
    "        \n",
    "        relevant = 0\n",
    "        for similarityRank in range(0,5):\n",
    "            match_ID = train_data[train_data['ID'] == modelIndexToDataframeIndex[finalResult[0][0]-1]].iloc[0]['ID']\n",
    "\n",
    "            best_match_fsc_row = get_FSC_classes_row(match_ID)\n",
    "            test_fsc_row = get_FSC_classes_row(sample['ID'])\n",
    "\n",
    "            fsc_list_best_match = validate_parse_fsc(best_match_fsc_row)\n",
    "            fsc_test_data_row = validate_parse_fsc(test_fsc_row)\n",
    "\n",
    "            intersection_fsc_classes = list(set(fsc_list_best_match).intersection(set(fsc_test_data_row)))\n",
    "\n",
    "            if len(fsc_test_data_row) != 0:\n",
    "                overlap_ratio = len(intersection_fsc_classes)/len(fsc_test_data_row)\n",
    "\n",
    "                ID_Test.append(row['ID'])\n",
    "                ID_Match.append(match_ID)\n",
    "                SimilarityRank.append(similarityRank)\n",
    "                FSC_Overlap.append(overlap_ratio)\n",
    "\n",
    "                if intersection_fsc_classes and enableprint:\n",
    "\n",
    "                    print(\"Test Sample ID : \"+ row['ID'])\n",
    "                    print(\"Match ID : \" + match_ID)\n",
    "                    print(\"Titulo Test Sample: \"+ row['Titulo'])\n",
    "                    #print(\"Titulo Match: \"+ best_match_data.iloc[0]['Titulo'])\n",
    "\n",
    "                    print(\"Resumo Test Sample: \"+ row['Resumo'])\n",
    "                    print(\"Resumo Match: \"+ best_match_data.iloc[0]['Resumo'])\n",
    "                    print(\"Class Overlap\" + str(intersection_fsc_classes) )\n",
    "                    print(\"Class Overlap Ratio\" + str(overlap_ratio) + '\\n')\n",
    "\n",
    "                if overlap_ratio >= 0.5:\n",
    "                    relevant += 1\n",
    "        #print(relevant)\n",
    "        precision = relevant / 5\n",
    "        Precision.append(precision)\n",
    "        ID_Precision_Test.append(row['ID'])\n",
    "        #df_precision_new_row = {\"ID_Test\": ID_Test, \"RecommendationPrecision\":precision}\n",
    "        #df_precision.append(df_precision_new_row, ignore_index=True)\n",
    "        if enableprint:\n",
    "            print(\"Precision\" + str(precision) + '\\n')\n",
    "\n",
    "\n",
    "    return pd.DataFrame({\"ID_Test\":ID_Test,\"ID_Match\":ID_Match,\"SimilarityRank\":SimilarityRank,\"FSC_Overlap\":FSC_Overlap}), pd.DataFrame({\"ID_Test\":ID_Precision_Test,\"Precision\":Precision})\n"
   ]
  },
  {
   "cell_type": "code",
   "execution_count": null,
   "metadata": {},
   "outputs": [],
   "source": [
    "   overlap_fsc_data, precision_data = evaluate_4(model_titulo,model_resumo,False)"
   ]
  },
  {
   "cell_type": "code",
   "execution_count": 102,
   "metadata": {},
   "outputs": [
    {
     "data": {
      "image/png": "[encoded data removed]",
      "text/plain": [
       "<Figure size 432x288 with 1 Axes>"
      ]
     },
     "metadata": {
      "needs_background": "light"
     },
     "output_type": "display_data"
    }
   ],
   "source": [
    "x = precision_data['Precision']\n",
    "plt.hist(x)\n",
    "plt.show()"
   ]
  },
  {
   "cell_type": "code",
   "execution_count": 103,
   "metadata": {},
   "outputs": [
    {
     "data": {
      "image/png": "[encoded data removed]",
      "text/plain": [
       "<Figure size 432x288 with 1 Axes>"
      ]
     },
     "metadata": {
      "needs_background": "light"
     },
     "output_type": "display_data"
    },
    {
     "data": {
      "image/png": "[encoded data removed]",
      "text/plain": [
       "<Figure size 432x288 with 1 Axes>"
      ]
     },
     "metadata": {
      "needs_background": "light"
     },
     "output_type": "display_data"
    },
    {
     "data": {
      "image/png": "[encoded data removed]",
      "text/plain": [
       "<Figure size 432x288 with 1 Axes>"
      ]
     },
     "metadata": {
      "needs_background": "light"
     },
     "output_type": "display_data"
    },
    {
     "data": {
      "image/png": "[encoded data removed]",
      "text/plain": [
       "<Figure size 432x288 with 1 Axes>"
      ]
     },
     "metadata": {
      "needs_background": "light"
     },
     "output_type": "display_data"
    },
    {
     "data": {
      "image/png": "[encoded data removed]",
      "text/plain": [
       "<Figure size 432x288 with 1 Axes>"
      ]
     },
     "metadata": {
      "needs_background": "light"
     },
     "output_type": "display_data"
    }
   ],
   "source": [
    "plt.hist(overlap_fsc_data[overlap_fsc_data['SimilarityRank'] == 0]['FSC_Overlap'],bins = 'sturges')\n",
    "plt.show()\n",
    "plt.hist(overlap_fsc_data[overlap_fsc_data['SimilarityRank'] == 1]['FSC_Overlap'],bins = 'sturges')\n",
    "plt.show()\n",
    "plt.hist(overlap_fsc_data[overlap_fsc_data['SimilarityRank'] == 2]['FSC_Overlap'],bins = 'sturges')\n",
    "plt.show()\n",
    "plt.hist(overlap_fsc_data[overlap_fsc_data['SimilarityRank'] == 3]['FSC_Overlap'],bins = 'sturges')\n",
    "plt.show()\n",
    "plt.hist(overlap_fsc_data[overlap_fsc_data['SimilarityRank'] == 4]['FSC_Overlap'],bins = 'sturges')\n",
    "plt.show()"
   ]
  },
  {
   "cell_type": "code",
   "execution_count": null,
   "metadata": {},
   "outputs": [],
   "source": []
  }
 ],
 "metadata": {
  "colab": {
   "collapsed_sections": [],
   "name": "CH3_PatentRS_Luis.ipynb",
   "provenance": []
  },
  "kernelspec": {
   "display_name": "Python 3",
   "language": "python",
   "name": "python3"
  },
  "language_info": {
   "codemirror_mode": {
    "name": "ipython",
    "version": 3
   },
   "file_extension": ".py",
   "mimetype": "text/x-python",
   "name": "python",
   "nbconvert_exporter": "python",
   "pygments_lexer": "ipython3",
   "version": "3.8.5"
  }
 },
 "nbformat": 4,
 "nbformat_minor": 1
}
