{
  "nbformat": 4,
  "nbformat_minor": 0,
  "metadata": {
    "colab": {
      "name": "Patentes_EPO.ipynb",
      "provenance": [],
      "authorship_tag": "ABX9TyPhqIYYTPrhX9XJbfC0iuIf",
      "include_colab_link": true
    },
    "kernelspec": {
      "name": "python3",
      "display_name": "Python 3"
    }
  },
  "cells": [
    {
      "cell_type": "markdown",
      "metadata": {
        "id": "view-in-github",
        "colab_type": "text"
      },
      "source": [
        "<a href=\"https://colab.research.google.com/github/DGuilherme/Challenge3/blob/main/Challenge/Patents_EPO.ipynb\" target=\"_parent\"><img src=\"https://colab.research.google.com/assets/colab-badge.svg\" alt=\"Open In Colab\"/></a>"
      ]
    },
    {
      "cell_type": "markdown",
      "metadata": {
        "id": "nl35GW3xAr5-"
      },
      "source": [
        "# Integration with EPO OPS \n",
        "\n",
        "An Initial Approach on how we could build our dataset epo Patent Repository"
      ]
    },
    {
      "cell_type": "code",
      "metadata": {
        "colab": {
          "base_uri": "https://localhost:8080/"
        },
        "id": "2rWH6IpAXfRI",
        "outputId": "74711b35-d20a-4653-be3a-045d72531710"
      },
      "source": [
        "pip install python-epo-ops-client"
      ],
      "execution_count": null,
      "outputs": [
        {
          "output_type": "stream",
          "text": [
            "Collecting python-epo-ops-client\n",
            "  Downloading https://files.pythonhosted.org/packages/c8/8d/c16357b575c4057b377ba38bf0f31b63f0009a7a7eb741cd1db1c46c7611/python_epo_ops_client-3.1.3-py2.py3-none-any.whl\n",
            "Requirement already satisfied: python-dateutil in /usr/local/lib/python3.7/dist-packages (from python-epo-ops-client) (2.8.1)\n",
            "Requirement already satisfied: requests in /usr/local/lib/python3.7/dist-packages (from python-epo-ops-client) (2.23.0)\n",
            "Requirement already satisfied: six in /usr/local/lib/python3.7/dist-packages (from python-epo-ops-client) (1.15.0)\n",
            "Requirement already satisfied: idna<3,>=2.5 in /usr/local/lib/python3.7/dist-packages (from requests->python-epo-ops-client) (2.10)\n",
            "Requirement already satisfied: certifi>=2017.4.17 in /usr/local/lib/python3.7/dist-packages (from requests->python-epo-ops-client) (2020.12.5)\n",
            "Requirement already satisfied: urllib3!=1.25.0,!=1.25.1,<1.26,>=1.21.1 in /usr/local/lib/python3.7/dist-packages (from requests->python-epo-ops-client) (1.24.3)\n",
            "Requirement already satisfied: chardet<4,>=3.0.2 in /usr/local/lib/python3.7/dist-packages (from requests->python-epo-ops-client) (3.0.4)\n",
            "Installing collected packages: python-epo-ops-client\n",
            "Successfully installed python-epo-ops-client-3.1.3\n"
          ],
          "name": "stdout"
        }
      ]
    },
    {
      "cell_type": "code",
      "metadata": {
        "id": "kT3-Z1HmV7at"
      },
      "source": [
        "\n",
        "import epo_ops\n",
        "\n",
        "client = epo_ops.Client(key='', secret='')  # Instantiate client\n",
        "response = client.published_data(  # Retrieve bibliography data\n",
        "  reference_type = 'publication',  # publication, application, priority\n",
        "  input = epo_ops.models.Docdb('1000000', 'EP', 'A1'),  # original, docdb, epodoc\n",
        "  endpoint = 'biblio',  # optional, defaults to biblio in case of published_data\n",
        "  constituents = []  # optional, list of constituents\n",
        ")"
      ],
      "execution_count": null,
      "outputs": []
    },
    {
      "cell_type": "code",
      "metadata": {
        "colab": {
          "base_uri": "https://localhost:8080/"
        },
        "id": "ebjokJuTXdEd",
        "outputId": "d0278071-3949-44ba-d38f-2233b79f8f2f"
      },
      "source": [
        "print(response.content)"
      ],
      "execution_count": null,
      "outputs": [
        {
          "output_type": "stream",
          "text": [
            "b'<?xml version=\"1.0\" encoding=\"UTF-8\"?><?xml-stylesheet type=\"text/xsl\" href=\"/3.2/style/exchange.xsl\"?>\\n<ops:world-patent-data xmlns=\"http://www.epo.org/exchange\" xmlns:ops=\"http://ops.epo.org\" xmlns:xlink=\"http://www.w3.org/1999/xlink\">\\n    <exchange-documents>\\n        <exchange-document system=\"ops.epo.org\" family-id=\"19768124\" country=\"EP\" doc-number=\"1000000\" kind=\"A1\">\\n            <bibliographic-data>\\n                <publication-reference>\\n                    <document-id document-id-type=\"docdb\">\\n                        <country>EP</country>\\n                        <doc-number>1000000</doc-number>\\n                        <kind>A1</kind>\\n                        <date>20000517</date>\\n                    </document-id>\\n                    <document-id document-id-type=\"epodoc\">\\n                        <doc-number>EP1000000</doc-number>\\n                        <date>20000517</date>\\n                    </document-id>\\n                </publication-reference>\\n                <classification-ipc>\\n                    <text>B28B5/02</text>\\n                    <text>B28B1/29</text>\\n                    <text>B28B7/00</text>\\n                </classification-ipc>\\n                <classifications-ipcr>\\n                    <classification-ipcr sequence=\"1\">\\n                        <text>B28B   1/    29            A I                    </text>\\n                    </classification-ipcr>\\n                    <classification-ipcr sequence=\"2\">\\n                        <text>B28B   5/    02            A I                    </text>\\n                    </classification-ipcr>\\n                    <classification-ipcr sequence=\"3\">\\n                        <text>B28B   7/    00            A I                    </text>\\n                    </classification-ipcr>\\n                    <classification-ipcr sequence=\"4\">\\n                        <text>H02P   6/    08            A I                    </text>\\n                    </classification-ipcr>\\n                </classifications-ipcr>\\n                <patent-classifications>\\n                    <patent-classification sequence=\"1\">\\n                        <classification-scheme office=\"EP\" scheme=\"CPCI\"/>\\n                        <section>B</section>\\n                        <class>28</class>\\n                        <subclass>B</subclass>\\n                        <main-group>1</main-group>\\n                        <subgroup>29</subgroup>\\n                        <classification-value>I</classification-value>\\n                        <generating-office>EP</generating-office>\\n                    </patent-classification>\\n                    <patent-classification sequence=\"2\">\\n                        <classification-scheme office=\"EP\" scheme=\"CPCI\"/>\\n                        <section>B</section>\\n                        <class>28</class>\\n                        <subclass>B</subclass>\\n                        <main-group>5</main-group>\\n                        <subgroup>022</subgroup>\\n                        <classification-value>I</classification-value>\\n                        <generating-office>US</generating-office>\\n                    </patent-classification>\\n                    <patent-classification sequence=\"3\">\\n                        <classification-scheme office=\"EP\" scheme=\"CPCI\"/>\\n                        <section>B</section>\\n                        <class>28</class>\\n                        <subclass>B</subclass>\\n                        <main-group>5</main-group>\\n                        <subgroup>022</subgroup>\\n                        <classification-value>I</classification-value>\\n                        <generating-office>EP</generating-office>\\n                    </patent-classification>\\n                    <patent-classification sequence=\"4\">\\n                        <classification-scheme office=\"EP\" scheme=\"CPCI\"/>\\n                        <section>B</section>\\n                        <class>28</class>\\n                        <subclass>B</subclass>\\n                        <main-group>7</main-group>\\n                        <subgroup>0064</subgroup>\\n                        <classification-value>I</classification-value>\\n                        <generating-office>EP</generating-office>\\n                    </patent-classification>\\n                    <patent-classification sequence=\"5\">\\n                        <classification-scheme office=\"EP\" scheme=\"CPCI\"/>\\n                        <section>H</section>\\n                        <class>02</class>\\n                        <subclass>P</subclass>\\n                        <main-group>6</main-group>\\n                        <subgroup>08</subgroup>\\n                        <classification-value>I</classification-value>\\n                        <generating-office>EP</generating-office>\\n                    </patent-classification>\\n                </patent-classifications>\\n                <application-reference doc-id=\"17397285\">\\n                    <document-id document-id-type=\"docdb\">\\n                        <country>EP</country>\\n                        <doc-number>99203729</doc-number>\\n                        <kind>A</kind>\\n                    </document-id>\\n                    <document-id document-id-type=\"epodoc\">\\n                        <doc-number>EP19990203729</doc-number>\\n                        <date>19991108</date>\\n                    </document-id>\\n                    <document-id document-id-type=\"original\">\\n                        <doc-number>99203729</doc-number>\\n                    </document-id>\\n                </application-reference>\\n                <priority-claims>\\n                    <priority-claim sequence=\"1\" kind=\"national\">\\n                        <document-id document-id-type=\"epodoc\">\\n                            <doc-number>NL19981010536</doc-number>\\n                            <date>19981112</date>\\n                        </document-id>\\n                        <document-id document-id-type=\"original\">\\n                            <doc-number>1010536</doc-number>\\n                        </document-id>\\n                    </priority-claim>\\n                </priority-claims>\\n                <parties>\\n                    <applicants>\\n                        <applicant sequence=\"1\" data-format=\"epodoc\">\\n                            <applicant-name>\\n                                <name>BOER BEHEER NIJMEGEN BV DE\\xe2\\x80\\x82[NL]\\n</name>\\n                            </applicant-name>\\n                        </applicant>\\n                        <applicant sequence=\"1\" data-format=\"original\">\\n                            <applicant-name>\\n                                <name>BEHEERMAATSCHAPPIJ DE BOER NIJMEGEN B.V</name>\\n                            </applicant-name>\\n                        </applicant>\\n                    </applicants>\\n                    <inventors>\\n                        <inventor sequence=\"1\" data-format=\"epodoc\">\\n                            <inventor-name>\\n                                <name>KOSMAN WILHELMUS JACOBUS MARIA\\xe2\\x80\\x82[NL]</name>\\n                            </inventor-name>\\n                        </inventor>\\n                        <inventor sequence=\"1\" data-format=\"original\">\\n                            <inventor-name>\\n                                <name>KOSMAN, WILHELMUS JACOBUS MARIA</name>\\n                            </inventor-name>\\n                        </inventor>\\n                    </inventors>\\n                </parties>\\n                <invention-title lang=\"de\">Vorrichtung zur Herstellung von Steinformlingen f\\xc3\\xbcr die Ziegelindustrie</invention-title>\\n                <invention-title lang=\"fr\">Dispositif pour la fabrication de briques crues utilis\\xc3\\xa9es dans l\\'industrie manufacturi\\xc3\\xa8re des briques</invention-title>\\n                <invention-title lang=\"en\">Apparatus for manufacturing green bricks for the brick manufacturing industry</invention-title>\\n                <references-cited>\\n                    <citation cited-phase=\"national-search-report\" cited-by=\"examiner\" sequence=\"1\">\\n                        <patcit dnum-type=\"publication number\" num=\"1\">\\n                            <document-id document-id-type=\"epodoc\">\\n                                <doc-number>EP0680812</doc-number>\\n                                <name>BOER BEHEER NIJMEGEN BV DE [NL]</name>\\n                                <date>19951108</date>\\n                            </document-id>\\n                            <document-id document-id-type=\"docdb\">\\n                                <country>EP</country>\\n                                <doc-number>0680812</doc-number>\\n                                <kind>A1</kind>\\n                                <name>BOER BEHEER NIJMEGEN BV DE [NL]</name>\\n                                <date>19951108</date>\\n                            </document-id>\\n                        </patcit>\\n                        <category>A</category>\\n                        <rel-claims>1,10,11</rel-claims>\\n                        <rel-passage>\\n                            <passage>* the whole document *</passage>\\n                        </rel-passage>\\n                    </citation>\\n                    <citation cited-phase=\"national-search-report\" cited-by=\"examiner\" sequence=\"2\">\\n                        <patcit dnum-type=\"publication number\" num=\"2\">\\n                            <document-id document-id-type=\"epodoc\">\\n                                <doc-number>NL9400663</doc-number>\\n                                <name>BOER BEHEER NIJMEGEN BV DE [NL]</name>\\n                                <date>19951201</date>\\n                            </document-id>\\n                            <document-id document-id-type=\"docdb\">\\n                                <country>NL</country>\\n                                <doc-number>9400663</doc-number>\\n                                <kind>A</kind>\\n                                <name>BOER BEHEER NIJMEGEN BV DE [NL]</name>\\n                                <date>19951201</date>\\n                            </document-id>\\n                        </patcit>\\n                        <category>A</category>\\n                        <rel-claims>1,3</rel-claims>\\n                        <rel-passage>\\n                            <passage>* the whole document *</passage>\\n                        </rel-passage>\\n                    </citation>\\n                    <citation cited-phase=\"national-search-report\" cited-by=\"examiner\" sequence=\"3\">\\n                        <patcit dnum-type=\"publication number\" num=\"3\">\\n                            <document-id document-id-type=\"epodoc\">\\n                                <doc-number>DE3546191</doc-number>\\n                                <name>NETZSCH MASCHINENFABRIK [DE]</name>\\n                                <date>19870702</date>\\n                            </document-id>\\n                            <document-id document-id-type=\"docdb\">\\n                                <country>DE</country>\\n                                <doc-number>3546191</doc-number>\\n                                <kind>A1</kind>\\n                                <name>NETZSCH MASCHINENFABRIK [DE]</name>\\n                                <date>19870702</date>\\n                            </document-id>\\n                        </patcit>\\n                        <category>A</category>\\n                        <rel-claims>1-3,8</rel-claims>\\n                        <rel-passage>\\n                            <passage>* the whole document *</passage>\\n                        </rel-passage>\\n                    </citation>\\n                </references-cited>\\n            </bibliographic-data>\\n            <abstract lang=\"en\">\\n                <p>The invention relates to an apparatus (1) for manufacturing green bricks from clay for the brick manufacturing industry, comprising a circulating conveyor (3) carrying mould containers combined to mould container parts (4), a reservoir (5) for clay arranged above the mould containers, means for carrying clay out of the reservoir (5) into the mould containers, means (9) for pressing and trimming clay in the mould containers, means (11) for supplying and placing take-off plates for the green bricks (13) and means for discharging green bricks released from the mould containers, characterized in that the apparatus further comprises means (22) for moving the mould container parts (4) filled with green bricks such that a protruding edge is formed on at least one side of the green bricks. &lt;IMAGE></p>\\n            </abstract>\\n        </exchange-document>\\n    </exchange-documents>\\n</ops:world-patent-data>'\n"
          ],
          "name": "stdout"
        }
      ]
    }
  ]
}